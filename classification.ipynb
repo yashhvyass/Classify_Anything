{
 "cells": [
  {
   "cell_type": "markdown",
   "id": "8fcda88f",
   "metadata": {
    "papermill": {
     "duration": 0.010938,
     "end_time": "2024-05-24T20:29:31.250730",
     "exception": false,
     "start_time": "2024-05-24T20:29:31.239792",
     "status": "completed"
    },
    "tags": []
   },
   "source": [
    "## Import Libraries"
   ]
  },
  {
   "cell_type": "code",
   "execution_count": 1,
   "id": "69c8f32c",
   "metadata": {
    "_cell_guid": "b1076dfc-b9ad-4769-8c92-a6c4dae69d19",
    "_uuid": "8f2839f25d086af736a60e9eeb907d3b93b6e0e5",
    "execution": {
     "iopub.execute_input": "2024-05-24T20:29:31.273541Z",
     "iopub.status.busy": "2024-05-24T20:29:31.273161Z",
     "iopub.status.idle": "2024-05-24T20:29:39.026949Z",
     "shell.execute_reply": "2024-05-24T20:29:39.026019Z"
    },
    "papermill": {
     "duration": 7.768175,
     "end_time": "2024-05-24T20:29:39.029544",
     "exception": false,
     "start_time": "2024-05-24T20:29:31.261369",
     "status": "completed"
    },
    "tags": []
   },
   "outputs": [],
   "source": [
    "import pandas as pd\n",
    "import numpy as np\n",
    "import matplotlib.pyplot as plt\n",
    "import seaborn as sns\n",
    "\n",
    "from sklearn.model_selection import StratifiedKFold\n",
    "from sklearn.metrics import roc_auc_score\n",
    "from category_encoders import TargetEncoder, OneHotEncoder, OrdinalEncoder\n",
    "from sklearn.pipeline import make_pipeline\n",
    "import xgboost as xgb\n",
    "from xgboost import XGBClassifier, DMatrix\n",
    "from sklearn.ensemble import RandomForestClassifier\n",
    "import optuna\n",
    "import catboost\n",
    "import lightgbm\n",
    "from catboost import CatBoostClassifier\n",
    "from lightgbm import LGBMClassifier\n",
    "from sklearn.linear_model import LogisticRegression\n",
    "from sklearn.ensemble import VotingClassifier\n",
    "\n",
    "import warnings\n",
    "warnings.filterwarnings('ignore')"
   ]
  },
  {
   "cell_type": "code",
   "execution_count": 2,
   "id": "ee755192",
   "metadata": {
    "execution": {
     "iopub.execute_input": "2024-05-24T20:29:39.053234Z",
     "iopub.status.busy": "2024-05-24T20:29:39.052775Z",
     "iopub.status.idle": "2024-05-24T20:29:39.591920Z",
     "shell.execute_reply": "2024-05-24T20:29:39.590680Z"
    },
    "papermill": {
     "duration": 0.55317,
     "end_time": "2024-05-24T20:29:39.594199",
     "exception": false,
     "start_time": "2024-05-24T20:29:39.041029",
     "status": "completed"
    },
    "tags": []
   },
   "outputs": [
    {
     "name": "stdout",
     "output_type": "stream",
     "text": [
      "-----------Train:----------- \n",
      "             id Product ID Type  Air temperature [K]  Process temperature [K]  \\\n",
      "0            0     L50096    L                300.6                    309.6   \n",
      "1            1     M20343    M                302.6                    312.1   \n",
      "2            2     L49454    L                299.3                    308.5   \n",
      "3            3     L53355    L                301.0                    310.9   \n",
      "4            4     M24050    M                298.0                    309.0   \n",
      "...        ...        ...  ...                  ...                      ...   \n",
      "136424  136424     M22284    M                300.1                    311.4   \n",
      "136425  136425     H38017    H                297.5                    308.5   \n",
      "136426  136426     L54690    L                300.5                    311.8   \n",
      "136427  136427     L53876    L                301.7                    310.9   \n",
      "136428  136428     L47937    L                296.9                    308.1   \n",
      "\n",
      "        Rotational speed [rpm]  Torque [Nm]  Tool wear [min]  Machine failure  \\\n",
      "0                         1596         36.1              140                0   \n",
      "1                         1759         29.1              200                0   \n",
      "2                         1805         26.5               25                0   \n",
      "3                         1524         44.3              197                0   \n",
      "4                         1641         35.4               34                0   \n",
      "...                        ...          ...              ...              ...   \n",
      "136424                    1530         37.5              210                0   \n",
      "136425                    1447         49.1                2                0   \n",
      "136426                    1524         38.5              214                0   \n",
      "136427                    1447         46.3               42                0   \n",
      "136428                    1557         39.3              229                0   \n",
      "\n",
      "        TWF  HDF  PWF  OSF  RNF  \n",
      "0         0    0    0    0    0  \n",
      "1         0    0    0    0    0  \n",
      "2         0    0    0    0    0  \n",
      "3         0    0    0    0    0  \n",
      "4         0    0    0    0    0  \n",
      "...     ...  ...  ...  ...  ...  \n",
      "136424    0    0    0    0    0  \n",
      "136425    0    0    0    0    0  \n",
      "136426    0    0    0    0    0  \n",
      "136427    0    0    0    0    0  \n",
      "136428    0    0    0    0    0  \n",
      "\n",
      "[136429 rows x 14 columns] \n",
      "\n",
      "-----------Test:------------ \n",
      "            id Product ID Type  Air temperature [K]  Process temperature [K]  \\\n",
      "0      136429     L50896    L                302.3                    311.5   \n",
      "1      136430     L53866    L                301.7                    311.0   \n",
      "2      136431     L50498    L                301.3                    310.4   \n",
      "3      136432     M21232    M                300.1                    309.6   \n",
      "4      136433     M19751    M                303.4                    312.3   \n",
      "...       ...        ...  ...                  ...                      ...   \n",
      "90949  227378     L51130    L                302.3                    311.4   \n",
      "90950  227379     L47783    L                297.9                    309.8   \n",
      "90951  227380     L48097    L                295.6                    306.2   \n",
      "90952  227381     L48969    L                298.1                    307.8   \n",
      "90953  227382     L52525    L                303.5                    312.8   \n",
      "\n",
      "       Rotational speed [rpm]  Torque [Nm]  Tool wear [min]  TWF  HDF  PWF  \\\n",
      "0                        1499         38.0               60    0    0    0   \n",
      "1                        1713         28.8               17    0    0    0   \n",
      "2                        1525         37.7               96    0    0    0   \n",
      "3                        1479         47.6                5    0    0    0   \n",
      "4                        1515         41.3              114    0    0    0   \n",
      "...                       ...          ...              ...  ...  ...  ...   \n",
      "90949                    1484         40.4               15    0    0    0   \n",
      "90950                    1542         33.8               31    0    0    0   \n",
      "90951                    1501         41.4              187    0    0    0   \n",
      "90952                    1534         40.3               69    0    0    0   \n",
      "90953                    1534         36.1               92    0    0    0   \n",
      "\n",
      "       OSF  RNF  \n",
      "0        0    0  \n",
      "1        0    0  \n",
      "2        0    0  \n",
      "3        0    0  \n",
      "4        0    0  \n",
      "...    ...  ...  \n",
      "90949    0    0  \n",
      "90950    0    0  \n",
      "90951    0    0  \n",
      "90952    0    0  \n",
      "90953    0    0  \n",
      "\n",
      "[90954 rows x 13 columns] \n",
      "\n",
      "-----------Sample Submission:----------- \n",
      "            id  Machine failure\n",
      "0      136429              0.5\n",
      "1      136430              0.5\n",
      "2      136431              0.5\n",
      "3      136432              0.5\n",
      "4      136433              0.5\n",
      "...       ...              ...\n",
      "90949  227378              0.5\n",
      "90950  227379              0.5\n",
      "90951  227380              0.5\n",
      "90952  227381              0.5\n",
      "90953  227382              0.5\n",
      "\n",
      "[90954 rows x 2 columns]\n"
     ]
    }
   ],
   "source": [
    "train_df = pd.read_csv('/kaggle/input/playground-series-s3e17/train.csv')\n",
    "print(f\"-----------Train:----------- \\n {train_df} \\n\")\n",
    "\n",
    "test_df = pd.read_csv('/kaggle/input/playground-series-s3e17/test.csv')\n",
    "print(f\"-----------Test:------------ \\n {test_df} \\n\")\n",
    "\n",
    "ss = pd.read_csv('/kaggle/input/playground-series-s3e17/sample_submission.csv')\n",
    "print(f\"-----------Sample Submission:----------- \\n {ss}\")"
   ]
  },
  {
   "cell_type": "code",
   "execution_count": 3,
   "id": "7876f044",
   "metadata": {
    "execution": {
     "iopub.execute_input": "2024-05-24T20:29:39.619050Z",
     "iopub.status.busy": "2024-05-24T20:29:39.618645Z",
     "iopub.status.idle": "2024-05-24T20:29:39.626824Z",
     "shell.execute_reply": "2024-05-24T20:29:39.625793Z"
    },
    "papermill": {
     "duration": 0.02303,
     "end_time": "2024-05-24T20:29:39.629230",
     "exception": false,
     "start_time": "2024-05-24T20:29:39.606200",
     "status": "completed"
    },
    "tags": []
   },
   "outputs": [
    {
     "data": {
      "text/plain": [
       "Index(['id', 'Product ID', 'Type', 'Air temperature [K]',\n",
       "       'Process temperature [K]', 'Rotational speed [rpm]', 'Torque [Nm]',\n",
       "       'Tool wear [min]', 'Machine failure', 'TWF', 'HDF', 'PWF', 'OSF',\n",
       "       'RNF'],\n",
       "      dtype='object')"
      ]
     },
     "execution_count": 3,
     "metadata": {},
     "output_type": "execute_result"
    }
   ],
   "source": [
    "train_df.columns"
   ]
  },
  {
   "cell_type": "code",
   "execution_count": 4,
   "id": "5e91c501",
   "metadata": {
    "execution": {
     "iopub.execute_input": "2024-05-24T20:29:39.653548Z",
     "iopub.status.busy": "2024-05-24T20:29:39.652704Z",
     "iopub.status.idle": "2024-05-24T20:29:39.673090Z",
     "shell.execute_reply": "2024-05-24T20:29:39.671973Z"
    },
    "papermill": {
     "duration": 0.035136,
     "end_time": "2024-05-24T20:29:39.675643",
     "exception": false,
     "start_time": "2024-05-24T20:29:39.640507",
     "status": "completed"
    },
    "tags": []
   },
   "outputs": [
    {
     "data": {
      "text/html": [
       "<div>\n",
       "<style scoped>\n",
       "    .dataframe tbody tr th:only-of-type {\n",
       "        vertical-align: middle;\n",
       "    }\n",
       "\n",
       "    .dataframe tbody tr th {\n",
       "        vertical-align: top;\n",
       "    }\n",
       "\n",
       "    .dataframe thead th {\n",
       "        text-align: right;\n",
       "    }\n",
       "</style>\n",
       "<table border=\"1\" class=\"dataframe\">\n",
       "  <thead>\n",
       "    <tr style=\"text-align: right;\">\n",
       "      <th></th>\n",
       "      <th>id</th>\n",
       "      <th>Product ID</th>\n",
       "      <th>Type</th>\n",
       "      <th>Air temperature [K]</th>\n",
       "      <th>Process temperature [K]</th>\n",
       "      <th>Rotational speed [rpm]</th>\n",
       "      <th>Torque [Nm]</th>\n",
       "      <th>Tool wear [min]</th>\n",
       "      <th>Machine failure</th>\n",
       "      <th>TWF</th>\n",
       "      <th>HDF</th>\n",
       "      <th>PWF</th>\n",
       "      <th>OSF</th>\n",
       "      <th>RNF</th>\n",
       "    </tr>\n",
       "  </thead>\n",
       "  <tbody>\n",
       "    <tr>\n",
       "      <th>0</th>\n",
       "      <td>0</td>\n",
       "      <td>L50096</td>\n",
       "      <td>L</td>\n",
       "      <td>300.6</td>\n",
       "      <td>309.6</td>\n",
       "      <td>1596</td>\n",
       "      <td>36.1</td>\n",
       "      <td>140</td>\n",
       "      <td>0</td>\n",
       "      <td>0</td>\n",
       "      <td>0</td>\n",
       "      <td>0</td>\n",
       "      <td>0</td>\n",
       "      <td>0</td>\n",
       "    </tr>\n",
       "    <tr>\n",
       "      <th>1</th>\n",
       "      <td>1</td>\n",
       "      <td>M20343</td>\n",
       "      <td>M</td>\n",
       "      <td>302.6</td>\n",
       "      <td>312.1</td>\n",
       "      <td>1759</td>\n",
       "      <td>29.1</td>\n",
       "      <td>200</td>\n",
       "      <td>0</td>\n",
       "      <td>0</td>\n",
       "      <td>0</td>\n",
       "      <td>0</td>\n",
       "      <td>0</td>\n",
       "      <td>0</td>\n",
       "    </tr>\n",
       "    <tr>\n",
       "      <th>2</th>\n",
       "      <td>2</td>\n",
       "      <td>L49454</td>\n",
       "      <td>L</td>\n",
       "      <td>299.3</td>\n",
       "      <td>308.5</td>\n",
       "      <td>1805</td>\n",
       "      <td>26.5</td>\n",
       "      <td>25</td>\n",
       "      <td>0</td>\n",
       "      <td>0</td>\n",
       "      <td>0</td>\n",
       "      <td>0</td>\n",
       "      <td>0</td>\n",
       "      <td>0</td>\n",
       "    </tr>\n",
       "    <tr>\n",
       "      <th>3</th>\n",
       "      <td>3</td>\n",
       "      <td>L53355</td>\n",
       "      <td>L</td>\n",
       "      <td>301.0</td>\n",
       "      <td>310.9</td>\n",
       "      <td>1524</td>\n",
       "      <td>44.3</td>\n",
       "      <td>197</td>\n",
       "      <td>0</td>\n",
       "      <td>0</td>\n",
       "      <td>0</td>\n",
       "      <td>0</td>\n",
       "      <td>0</td>\n",
       "      <td>0</td>\n",
       "    </tr>\n",
       "    <tr>\n",
       "      <th>4</th>\n",
       "      <td>4</td>\n",
       "      <td>M24050</td>\n",
       "      <td>M</td>\n",
       "      <td>298.0</td>\n",
       "      <td>309.0</td>\n",
       "      <td>1641</td>\n",
       "      <td>35.4</td>\n",
       "      <td>34</td>\n",
       "      <td>0</td>\n",
       "      <td>0</td>\n",
       "      <td>0</td>\n",
       "      <td>0</td>\n",
       "      <td>0</td>\n",
       "      <td>0</td>\n",
       "    </tr>\n",
       "  </tbody>\n",
       "</table>\n",
       "</div>"
      ],
      "text/plain": [
       "   id Product ID Type  Air temperature [K]  Process temperature [K]  \\\n",
       "0   0     L50096    L                300.6                    309.6   \n",
       "1   1     M20343    M                302.6                    312.1   \n",
       "2   2     L49454    L                299.3                    308.5   \n",
       "3   3     L53355    L                301.0                    310.9   \n",
       "4   4     M24050    M                298.0                    309.0   \n",
       "\n",
       "   Rotational speed [rpm]  Torque [Nm]  Tool wear [min]  Machine failure  TWF  \\\n",
       "0                    1596         36.1              140                0    0   \n",
       "1                    1759         29.1              200                0    0   \n",
       "2                    1805         26.5               25                0    0   \n",
       "3                    1524         44.3              197                0    0   \n",
       "4                    1641         35.4               34                0    0   \n",
       "\n",
       "   HDF  PWF  OSF  RNF  \n",
       "0    0    0    0    0  \n",
       "1    0    0    0    0  \n",
       "2    0    0    0    0  \n",
       "3    0    0    0    0  \n",
       "4    0    0    0    0  "
      ]
     },
     "execution_count": 4,
     "metadata": {},
     "output_type": "execute_result"
    }
   ],
   "source": [
    "train_df.head()"
   ]
  },
  {
   "cell_type": "code",
   "execution_count": 5,
   "id": "439770ad",
   "metadata": {
    "execution": {
     "iopub.execute_input": "2024-05-24T20:29:39.700360Z",
     "iopub.status.busy": "2024-05-24T20:29:39.700022Z",
     "iopub.status.idle": "2024-05-24T20:29:39.706973Z",
     "shell.execute_reply": "2024-05-24T20:29:39.705990Z"
    },
    "papermill": {
     "duration": 0.021265,
     "end_time": "2024-05-24T20:29:39.709096",
     "exception": false,
     "start_time": "2024-05-24T20:29:39.687831",
     "status": "completed"
    },
    "tags": []
   },
   "outputs": [],
   "source": [
    "# train_df.describe()\n",
    "def basic_analysis(df):\n",
    "    desc = pd.DataFrame()\n",
    "    desc['nunqiue'] = df.nunique()\n",
    "    desc['perc_nunique'] = np.round(df.nunique()/df.shape[0] * 100, 2)\n",
    "    # Count infinite values in each column\n",
    "    desc['is_infinity'] = df.apply(lambda col: col.isin([float('inf'), float('-inf')]).sum(), axis=0) # columns wise sum\n",
    "\n",
    "    desc = pd.concat([desc, train_df.describe().T], axis=1)\n",
    "    return desc"
   ]
  },
  {
   "cell_type": "code",
   "execution_count": 6,
   "id": "16c00187",
   "metadata": {
    "execution": {
     "iopub.execute_input": "2024-05-24T20:29:39.733199Z",
     "iopub.status.busy": "2024-05-24T20:29:39.732881Z",
     "iopub.status.idle": "2024-05-24T20:29:40.213908Z",
     "shell.execute_reply": "2024-05-24T20:29:40.212807Z"
    },
    "papermill": {
     "duration": 0.49726,
     "end_time": "2024-05-24T20:29:40.217232",
     "exception": false,
     "start_time": "2024-05-24T20:29:39.719972",
     "status": "completed"
    },
    "tags": []
   },
   "outputs": [
    {
     "name": "stdout",
     "output_type": "stream",
     "text": [
      "Train Basic Analysis: \n",
      "                          nunqiue  perc_nunique  is_infinity     count  \\\n",
      "id                        136429        100.00            0  136429.0   \n",
      "Product ID                  9976          7.31            0       NaN   \n",
      "Type                           3          0.00            0       NaN   \n",
      "Air temperature [K]           95          0.07            0  136429.0   \n",
      "Process temperature [K]       81          0.06            0  136429.0   \n",
      "Rotational speed [rpm]       952          0.70            0  136429.0   \n",
      "Torque [Nm]                  611          0.45            0  136429.0   \n",
      "Tool wear [min]              246          0.18            0  136429.0   \n",
      "Machine failure                2          0.00            0  136429.0   \n",
      "TWF                            2          0.00            0  136429.0   \n",
      "HDF                            2          0.00            0  136429.0   \n",
      "PWF                            2          0.00            0  136429.0   \n",
      "OSF                            2          0.00            0  136429.0   \n",
      "RNF                            2          0.00            0  136429.0   \n",
      "\n",
      "                                 mean           std     min      25%      50%  \\\n",
      "id                       68214.000000  39383.804275     0.0  34107.0  68214.0   \n",
      "Product ID                        NaN           NaN     NaN      NaN      NaN   \n",
      "Type                              NaN           NaN     NaN      NaN      NaN   \n",
      "Air temperature [K]        299.862776      1.862247   295.3    298.3    300.0   \n",
      "Process temperature [K]    309.941070      1.385173   305.8    308.7    310.0   \n",
      "Rotational speed [rpm]    1520.331110    138.736632  1181.0   1432.0   1493.0   \n",
      "Torque [Nm]                 40.348643      8.502229     3.8     34.6     40.4   \n",
      "Tool wear [min]            104.408901     63.965040     0.0     48.0    106.0   \n",
      "Machine failure              0.015744      0.124486     0.0      0.0      0.0   \n",
      "TWF                          0.001554      0.039389     0.0      0.0      0.0   \n",
      "HDF                          0.005160      0.071649     0.0      0.0      0.0   \n",
      "PWF                          0.002397      0.048899     0.0      0.0      0.0   \n",
      "OSF                          0.003958      0.062789     0.0      0.0      0.0   \n",
      "RNF                          0.002258      0.047461     0.0      0.0      0.0   \n",
      "\n",
      "                              75%       max  \n",
      "id                       102321.0  136428.0  \n",
      "Product ID                    NaN       NaN  \n",
      "Type                          NaN       NaN  \n",
      "Air temperature [K]         301.2     304.4  \n",
      "Process temperature [K]     310.9     313.8  \n",
      "Rotational speed [rpm]     1580.0    2886.0  \n",
      "Torque [Nm]                  46.1      76.6  \n",
      "Tool wear [min]             159.0     253.0  \n",
      "Machine failure               0.0       1.0  \n",
      "TWF                           0.0       1.0  \n",
      "HDF                           0.0       1.0  \n",
      "PWF                           0.0       1.0  \n",
      "OSF                           0.0       1.0  \n",
      "RNF                           0.0       1.0   \n",
      "\n",
      "Test Basic Analysis: \n",
      "                         nunqiue  perc_nunique  is_infinity     count  \\\n",
      "id                       90954.0        100.00          0.0  136429.0   \n",
      "Product ID                9909.0         10.89          0.0       NaN   \n",
      "Type                         3.0          0.00          0.0       NaN   \n",
      "Air temperature [K]         92.0          0.10          0.0  136429.0   \n",
      "Process temperature [K]     84.0          0.09          0.0  136429.0   \n",
      "Rotational speed [rpm]     946.0          1.04          0.0  136429.0   \n",
      "Torque [Nm]                595.0          0.65          0.0  136429.0   \n",
      "Tool wear [min]            246.0          0.27          0.0  136429.0   \n",
      "TWF                          2.0          0.00          0.0  136429.0   \n",
      "HDF                          2.0          0.00          0.0  136429.0   \n",
      "PWF                          2.0          0.00          0.0  136429.0   \n",
      "OSF                          2.0          0.00          0.0  136429.0   \n",
      "RNF                          2.0          0.00          0.0  136429.0   \n",
      "Machine failure              NaN           NaN          NaN  136429.0   \n",
      "\n",
      "                                 mean           std     min      25%      50%  \\\n",
      "id                       68214.000000  39383.804275     0.0  34107.0  68214.0   \n",
      "Product ID                        NaN           NaN     NaN      NaN      NaN   \n",
      "Type                              NaN           NaN     NaN      NaN      NaN   \n",
      "Air temperature [K]        299.862776      1.862247   295.3    298.3    300.0   \n",
      "Process temperature [K]    309.941070      1.385173   305.8    308.7    310.0   \n",
      "Rotational speed [rpm]    1520.331110    138.736632  1181.0   1432.0   1493.0   \n",
      "Torque [Nm]                 40.348643      8.502229     3.8     34.6     40.4   \n",
      "Tool wear [min]            104.408901     63.965040     0.0     48.0    106.0   \n",
      "TWF                          0.001554      0.039389     0.0      0.0      0.0   \n",
      "HDF                          0.005160      0.071649     0.0      0.0      0.0   \n",
      "PWF                          0.002397      0.048899     0.0      0.0      0.0   \n",
      "OSF                          0.003958      0.062789     0.0      0.0      0.0   \n",
      "RNF                          0.002258      0.047461     0.0      0.0      0.0   \n",
      "Machine failure              0.015744      0.124486     0.0      0.0      0.0   \n",
      "\n",
      "                              75%       max  \n",
      "id                       102321.0  136428.0  \n",
      "Product ID                    NaN       NaN  \n",
      "Type                          NaN       NaN  \n",
      "Air temperature [K]         301.2     304.4  \n",
      "Process temperature [K]     310.9     313.8  \n",
      "Rotational speed [rpm]     1580.0    2886.0  \n",
      "Torque [Nm]                  46.1      76.6  \n",
      "Tool wear [min]             159.0     253.0  \n",
      "TWF                           0.0       1.0  \n",
      "HDF                           0.0       1.0  \n",
      "PWF                           0.0       1.0  \n",
      "OSF                           0.0       1.0  \n",
      "RNF                           0.0       1.0  \n",
      "Machine failure               0.0       1.0  \n"
     ]
    }
   ],
   "source": [
    "print(f\"Train Basic Analysis: \\n {basic_analysis(train_df)} \\n\")\n",
    "print(f\"Test Basic Analysis: \\n{basic_analysis(test_df)}\")"
   ]
  },
  {
   "cell_type": "code",
   "execution_count": 7,
   "id": "9c5c6ffb",
   "metadata": {
    "execution": {
     "iopub.execute_input": "2024-05-24T20:29:40.243689Z",
     "iopub.status.busy": "2024-05-24T20:29:40.242938Z",
     "iopub.status.idle": "2024-05-24T20:29:40.249876Z",
     "shell.execute_reply": "2024-05-24T20:29:40.248833Z"
    },
    "papermill": {
     "duration": 0.022061,
     "end_time": "2024-05-24T20:29:40.252054",
     "exception": false,
     "start_time": "2024-05-24T20:29:40.229993",
     "status": "completed"
    },
    "tags": []
   },
   "outputs": [
    {
     "data": {
      "text/plain": [
       "['id',\n",
       " 'Product ID',\n",
       " 'Type',\n",
       " 'Air temperature [K]',\n",
       " 'Process temperature [K]',\n",
       " 'Rotational speed [rpm]',\n",
       " 'Torque [Nm]',\n",
       " 'Tool wear [min]',\n",
       " 'Machine failure',\n",
       " 'TWF',\n",
       " 'HDF',\n",
       " 'PWF',\n",
       " 'OSF',\n",
       " 'RNF']"
      ]
     },
     "execution_count": 7,
     "metadata": {},
     "output_type": "execute_result"
    }
   ],
   "source": [
    "## Dataframe ko list mein daalke list of columns aajate h\n",
    "list(train_df)"
   ]
  },
  {
   "cell_type": "code",
   "execution_count": 8,
   "id": "38d438e7",
   "metadata": {
    "execution": {
     "iopub.execute_input": "2024-05-24T20:29:40.276845Z",
     "iopub.status.busy": "2024-05-24T20:29:40.275816Z",
     "iopub.status.idle": "2024-05-24T20:29:40.322861Z",
     "shell.execute_reply": "2024-05-24T20:29:40.321813Z"
    },
    "papermill": {
     "duration": 0.061813,
     "end_time": "2024-05-24T20:29:40.325533",
     "exception": false,
     "start_time": "2024-05-24T20:29:40.263720",
     "status": "completed"
    },
    "tags": []
   },
   "outputs": [
    {
     "name": "stdout",
     "output_type": "stream",
     "text": [
      "<class 'pandas.core.frame.DataFrame'>\n",
      "RangeIndex: 136429 entries, 0 to 136428\n",
      "Data columns (total 14 columns):\n",
      " #   Column                   Non-Null Count   Dtype  \n",
      "---  ------                   --------------   -----  \n",
      " 0   id                       136429 non-null  int64  \n",
      " 1   Product ID               136429 non-null  object \n",
      " 2   Type                     136429 non-null  object \n",
      " 3   Air temperature [K]      136429 non-null  float64\n",
      " 4   Process temperature [K]  136429 non-null  float64\n",
      " 5   Rotational speed [rpm]   136429 non-null  int64  \n",
      " 6   Torque [Nm]              136429 non-null  float64\n",
      " 7   Tool wear [min]          136429 non-null  int64  \n",
      " 8   Machine failure          136429 non-null  int64  \n",
      " 9   TWF                      136429 non-null  int64  \n",
      " 10  HDF                      136429 non-null  int64  \n",
      " 11  PWF                      136429 non-null  int64  \n",
      " 12  OSF                      136429 non-null  int64  \n",
      " 13  RNF                      136429 non-null  int64  \n",
      "dtypes: float64(3), int64(9), object(2)\n",
      "memory usage: 14.6+ MB\n"
     ]
    }
   ],
   "source": [
    "train_df.info()"
   ]
  },
  {
   "cell_type": "code",
   "execution_count": 9,
   "id": "393fd768",
   "metadata": {
    "execution": {
     "iopub.execute_input": "2024-05-24T20:29:40.349198Z",
     "iopub.status.busy": "2024-05-24T20:29:40.348892Z",
     "iopub.status.idle": "2024-05-24T20:29:40.354836Z",
     "shell.execute_reply": "2024-05-24T20:29:40.353944Z"
    },
    "papermill": {
     "duration": 0.020214,
     "end_time": "2024-05-24T20:29:40.357100",
     "exception": false,
     "start_time": "2024-05-24T20:29:40.336886",
     "status": "completed"
    },
    "tags": []
   },
   "outputs": [
    {
     "data": {
      "text/plain": [
       "Index(['id', 'Product ID', 'Type', 'Air temperature [K]',\n",
       "       'Process temperature [K]', 'Rotational speed [rpm]', 'Torque [Nm]',\n",
       "       'Tool wear [min]', 'Machine failure', 'TWF', 'HDF', 'PWF', 'OSF',\n",
       "       'RNF'],\n",
       "      dtype='object')"
      ]
     },
     "execution_count": 9,
     "metadata": {},
     "output_type": "execute_result"
    }
   ],
   "source": [
    "train_df.columns"
   ]
  },
  {
   "cell_type": "code",
   "execution_count": 10,
   "id": "2c260eb5",
   "metadata": {
    "execution": {
     "iopub.execute_input": "2024-05-24T20:29:40.381511Z",
     "iopub.status.busy": "2024-05-24T20:29:40.381197Z",
     "iopub.status.idle": "2024-05-24T20:29:40.386104Z",
     "shell.execute_reply": "2024-05-24T20:29:40.385075Z"
    },
    "papermill": {
     "duration": 0.020003,
     "end_time": "2024-05-24T20:29:40.388477",
     "exception": false,
     "start_time": "2024-05-24T20:29:40.368474",
     "status": "completed"
    },
    "tags": []
   },
   "outputs": [],
   "source": [
    "new_columns=[]\n",
    "for i in train_df.columns:\n",
    "    new_columns.append(i.split(\"[\")[0].strip())"
   ]
  },
  {
   "cell_type": "code",
   "execution_count": 11,
   "id": "ea35690e",
   "metadata": {
    "execution": {
     "iopub.execute_input": "2024-05-24T20:29:40.413687Z",
     "iopub.status.busy": "2024-05-24T20:29:40.413311Z",
     "iopub.status.idle": "2024-05-24T20:29:40.418727Z",
     "shell.execute_reply": "2024-05-24T20:29:40.417780Z"
    },
    "papermill": {
     "duration": 0.020747,
     "end_time": "2024-05-24T20:29:40.421027",
     "exception": false,
     "start_time": "2024-05-24T20:29:40.400280",
     "status": "completed"
    },
    "tags": []
   },
   "outputs": [],
   "source": [
    "train_df.columns = new_columns\n",
    "target_columns = list(filter(lambda x: x!='Machine failure', new_columns)) # drop Machine Failures\n",
    "test_df.columns = target_columns"
   ]
  },
  {
   "cell_type": "code",
   "execution_count": 12,
   "id": "0763db5b",
   "metadata": {
    "execution": {
     "iopub.execute_input": "2024-05-24T20:29:40.445574Z",
     "iopub.status.busy": "2024-05-24T20:29:40.445280Z",
     "iopub.status.idle": "2024-05-24T20:29:40.467521Z",
     "shell.execute_reply": "2024-05-24T20:29:40.466470Z"
    },
    "papermill": {
     "duration": 0.036964,
     "end_time": "2024-05-24T20:29:40.469769",
     "exception": false,
     "start_time": "2024-05-24T20:29:40.432805",
     "status": "completed"
    },
    "tags": []
   },
   "outputs": [
    {
     "data": {
      "text/html": [
       "<div>\n",
       "<style scoped>\n",
       "    .dataframe tbody tr th:only-of-type {\n",
       "        vertical-align: middle;\n",
       "    }\n",
       "\n",
       "    .dataframe tbody tr th {\n",
       "        vertical-align: top;\n",
       "    }\n",
       "\n",
       "    .dataframe thead th {\n",
       "        text-align: right;\n",
       "    }\n",
       "</style>\n",
       "<table border=\"1\" class=\"dataframe\">\n",
       "  <thead>\n",
       "    <tr style=\"text-align: right;\">\n",
       "      <th></th>\n",
       "      <th>id</th>\n",
       "      <th>Product ID</th>\n",
       "      <th>Type</th>\n",
       "      <th>Air temperature</th>\n",
       "      <th>Process temperature</th>\n",
       "      <th>Rotational speed</th>\n",
       "      <th>Torque</th>\n",
       "      <th>Tool wear</th>\n",
       "      <th>TWF</th>\n",
       "      <th>HDF</th>\n",
       "      <th>PWF</th>\n",
       "      <th>OSF</th>\n",
       "      <th>RNF</th>\n",
       "    </tr>\n",
       "  </thead>\n",
       "  <tbody>\n",
       "    <tr>\n",
       "      <th>0</th>\n",
       "      <td>136429</td>\n",
       "      <td>L50896</td>\n",
       "      <td>L</td>\n",
       "      <td>302.3</td>\n",
       "      <td>311.5</td>\n",
       "      <td>1499</td>\n",
       "      <td>38.0</td>\n",
       "      <td>60</td>\n",
       "      <td>0</td>\n",
       "      <td>0</td>\n",
       "      <td>0</td>\n",
       "      <td>0</td>\n",
       "      <td>0</td>\n",
       "    </tr>\n",
       "    <tr>\n",
       "      <th>1</th>\n",
       "      <td>136430</td>\n",
       "      <td>L53866</td>\n",
       "      <td>L</td>\n",
       "      <td>301.7</td>\n",
       "      <td>311.0</td>\n",
       "      <td>1713</td>\n",
       "      <td>28.8</td>\n",
       "      <td>17</td>\n",
       "      <td>0</td>\n",
       "      <td>0</td>\n",
       "      <td>0</td>\n",
       "      <td>0</td>\n",
       "      <td>0</td>\n",
       "    </tr>\n",
       "    <tr>\n",
       "      <th>2</th>\n",
       "      <td>136431</td>\n",
       "      <td>L50498</td>\n",
       "      <td>L</td>\n",
       "      <td>301.3</td>\n",
       "      <td>310.4</td>\n",
       "      <td>1525</td>\n",
       "      <td>37.7</td>\n",
       "      <td>96</td>\n",
       "      <td>0</td>\n",
       "      <td>0</td>\n",
       "      <td>0</td>\n",
       "      <td>0</td>\n",
       "      <td>0</td>\n",
       "    </tr>\n",
       "    <tr>\n",
       "      <th>3</th>\n",
       "      <td>136432</td>\n",
       "      <td>M21232</td>\n",
       "      <td>M</td>\n",
       "      <td>300.1</td>\n",
       "      <td>309.6</td>\n",
       "      <td>1479</td>\n",
       "      <td>47.6</td>\n",
       "      <td>5</td>\n",
       "      <td>0</td>\n",
       "      <td>0</td>\n",
       "      <td>0</td>\n",
       "      <td>0</td>\n",
       "      <td>0</td>\n",
       "    </tr>\n",
       "    <tr>\n",
       "      <th>4</th>\n",
       "      <td>136433</td>\n",
       "      <td>M19751</td>\n",
       "      <td>M</td>\n",
       "      <td>303.4</td>\n",
       "      <td>312.3</td>\n",
       "      <td>1515</td>\n",
       "      <td>41.3</td>\n",
       "      <td>114</td>\n",
       "      <td>0</td>\n",
       "      <td>0</td>\n",
       "      <td>0</td>\n",
       "      <td>0</td>\n",
       "      <td>0</td>\n",
       "    </tr>\n",
       "    <tr>\n",
       "      <th>...</th>\n",
       "      <td>...</td>\n",
       "      <td>...</td>\n",
       "      <td>...</td>\n",
       "      <td>...</td>\n",
       "      <td>...</td>\n",
       "      <td>...</td>\n",
       "      <td>...</td>\n",
       "      <td>...</td>\n",
       "      <td>...</td>\n",
       "      <td>...</td>\n",
       "      <td>...</td>\n",
       "      <td>...</td>\n",
       "      <td>...</td>\n",
       "    </tr>\n",
       "    <tr>\n",
       "      <th>90949</th>\n",
       "      <td>227378</td>\n",
       "      <td>L51130</td>\n",
       "      <td>L</td>\n",
       "      <td>302.3</td>\n",
       "      <td>311.4</td>\n",
       "      <td>1484</td>\n",
       "      <td>40.4</td>\n",
       "      <td>15</td>\n",
       "      <td>0</td>\n",
       "      <td>0</td>\n",
       "      <td>0</td>\n",
       "      <td>0</td>\n",
       "      <td>0</td>\n",
       "    </tr>\n",
       "    <tr>\n",
       "      <th>90950</th>\n",
       "      <td>227379</td>\n",
       "      <td>L47783</td>\n",
       "      <td>L</td>\n",
       "      <td>297.9</td>\n",
       "      <td>309.8</td>\n",
       "      <td>1542</td>\n",
       "      <td>33.8</td>\n",
       "      <td>31</td>\n",
       "      <td>0</td>\n",
       "      <td>0</td>\n",
       "      <td>0</td>\n",
       "      <td>0</td>\n",
       "      <td>0</td>\n",
       "    </tr>\n",
       "    <tr>\n",
       "      <th>90951</th>\n",
       "      <td>227380</td>\n",
       "      <td>L48097</td>\n",
       "      <td>L</td>\n",
       "      <td>295.6</td>\n",
       "      <td>306.2</td>\n",
       "      <td>1501</td>\n",
       "      <td>41.4</td>\n",
       "      <td>187</td>\n",
       "      <td>0</td>\n",
       "      <td>0</td>\n",
       "      <td>0</td>\n",
       "      <td>0</td>\n",
       "      <td>0</td>\n",
       "    </tr>\n",
       "    <tr>\n",
       "      <th>90952</th>\n",
       "      <td>227381</td>\n",
       "      <td>L48969</td>\n",
       "      <td>L</td>\n",
       "      <td>298.1</td>\n",
       "      <td>307.8</td>\n",
       "      <td>1534</td>\n",
       "      <td>40.3</td>\n",
       "      <td>69</td>\n",
       "      <td>0</td>\n",
       "      <td>0</td>\n",
       "      <td>0</td>\n",
       "      <td>0</td>\n",
       "      <td>0</td>\n",
       "    </tr>\n",
       "    <tr>\n",
       "      <th>90953</th>\n",
       "      <td>227382</td>\n",
       "      <td>L52525</td>\n",
       "      <td>L</td>\n",
       "      <td>303.5</td>\n",
       "      <td>312.8</td>\n",
       "      <td>1534</td>\n",
       "      <td>36.1</td>\n",
       "      <td>92</td>\n",
       "      <td>0</td>\n",
       "      <td>0</td>\n",
       "      <td>0</td>\n",
       "      <td>0</td>\n",
       "      <td>0</td>\n",
       "    </tr>\n",
       "  </tbody>\n",
       "</table>\n",
       "<p>90954 rows × 13 columns</p>\n",
       "</div>"
      ],
      "text/plain": [
       "           id Product ID Type  Air temperature  Process temperature  \\\n",
       "0      136429     L50896    L            302.3                311.5   \n",
       "1      136430     L53866    L            301.7                311.0   \n",
       "2      136431     L50498    L            301.3                310.4   \n",
       "3      136432     M21232    M            300.1                309.6   \n",
       "4      136433     M19751    M            303.4                312.3   \n",
       "...       ...        ...  ...              ...                  ...   \n",
       "90949  227378     L51130    L            302.3                311.4   \n",
       "90950  227379     L47783    L            297.9                309.8   \n",
       "90951  227380     L48097    L            295.6                306.2   \n",
       "90952  227381     L48969    L            298.1                307.8   \n",
       "90953  227382     L52525    L            303.5                312.8   \n",
       "\n",
       "       Rotational speed  Torque  Tool wear  TWF  HDF  PWF  OSF  RNF  \n",
       "0                  1499    38.0         60    0    0    0    0    0  \n",
       "1                  1713    28.8         17    0    0    0    0    0  \n",
       "2                  1525    37.7         96    0    0    0    0    0  \n",
       "3                  1479    47.6          5    0    0    0    0    0  \n",
       "4                  1515    41.3        114    0    0    0    0    0  \n",
       "...                 ...     ...        ...  ...  ...  ...  ...  ...  \n",
       "90949              1484    40.4         15    0    0    0    0    0  \n",
       "90950              1542    33.8         31    0    0    0    0    0  \n",
       "90951              1501    41.4        187    0    0    0    0    0  \n",
       "90952              1534    40.3         69    0    0    0    0    0  \n",
       "90953              1534    36.1         92    0    0    0    0    0  \n",
       "\n",
       "[90954 rows x 13 columns]"
      ]
     },
     "execution_count": 12,
     "metadata": {},
     "output_type": "execute_result"
    }
   ],
   "source": [
    "test_df"
   ]
  },
  {
   "cell_type": "code",
   "execution_count": 13,
   "id": "39536bf9",
   "metadata": {
    "execution": {
     "iopub.execute_input": "2024-05-24T20:29:40.495086Z",
     "iopub.status.busy": "2024-05-24T20:29:40.494753Z",
     "iopub.status.idle": "2024-05-24T20:29:40.504256Z",
     "shell.execute_reply": "2024-05-24T20:29:40.503292Z"
    },
    "papermill": {
     "duration": 0.024863,
     "end_time": "2024-05-24T20:29:40.506417",
     "exception": false,
     "start_time": "2024-05-24T20:29:40.481554",
     "status": "completed"
    },
    "tags": []
   },
   "outputs": [],
   "source": [
    "### Categricala and Numerical Featutres\n",
    "categorical_feat = train_df.select_dtypes(include=['object'])\n",
    "numerical_feat = train_df.select_dtypes(include=['float', 'int'])"
   ]
  },
  {
   "cell_type": "code",
   "execution_count": 14,
   "id": "6f08f2f9",
   "metadata": {
    "execution": {
     "iopub.execute_input": "2024-05-24T20:29:40.532511Z",
     "iopub.status.busy": "2024-05-24T20:29:40.531971Z",
     "iopub.status.idle": "2024-05-24T20:29:42.120032Z",
     "shell.execute_reply": "2024-05-24T20:29:42.118905Z"
    },
    "papermill": {
     "duration": 1.604668,
     "end_time": "2024-05-24T20:29:42.123105",
     "exception": false,
     "start_time": "2024-05-24T20:29:40.518437",
     "status": "completed"
    },
    "tags": []
   },
   "outputs": [
    {
     "name": "stdout",
     "output_type": "stream",
     "text": [
      "Spearman's Rank Correlation Coefficient: -0.012963931145135155\n",
      "P-value: 1.6798788164708942e-06\n"
     ]
    }
   ],
   "source": [
    "# Since the correlation between Product Id and target variable is really less. Target encoding would not be a good option.\n",
    "from scipy.stats import spearmanr\n",
    "\n",
    "# Calculate Spearman's rank correlation coefficient\n",
    "spearman_corr, p_value = spearmanr(train_df['Product ID'], train_df['Machine failure'])\n",
    "\n",
    "print(\"Spearman's Rank Correlation Coefficient:\", spearman_corr)\n",
    "print(\"P-value:\", p_value)"
   ]
  },
  {
   "cell_type": "code",
   "execution_count": 15,
   "id": "6a8971bf",
   "metadata": {
    "execution": {
     "iopub.execute_input": "2024-05-24T20:29:42.154683Z",
     "iopub.status.busy": "2024-05-24T20:29:42.154265Z",
     "iopub.status.idle": "2024-05-24T20:29:42.237064Z",
     "shell.execute_reply": "2024-05-24T20:29:42.235825Z"
    },
    "papermill": {
     "duration": 0.099837,
     "end_time": "2024-05-24T20:29:42.240127",
     "exception": false,
     "start_time": "2024-05-24T20:29:42.140290",
     "status": "completed"
    },
    "tags": []
   },
   "outputs": [],
   "source": [
    "def convert_columns_types(df):\n",
    "    df['Product ID'] = df['Product ID'].astype('category')\n",
    "    df['Type'] = df['Type'].astype('category')\n",
    "    \n",
    "convert_columns_types(train_df)\n",
    "convert_columns_types(test_df)"
   ]
  },
  {
   "cell_type": "code",
   "execution_count": 16,
   "id": "b7fecab1",
   "metadata": {
    "execution": {
     "iopub.execute_input": "2024-05-24T20:29:42.267344Z",
     "iopub.status.busy": "2024-05-24T20:29:42.266980Z",
     "iopub.status.idle": "2024-05-24T20:29:42.278453Z",
     "shell.execute_reply": "2024-05-24T20:29:42.277671Z"
    },
    "papermill": {
     "duration": 0.027032,
     "end_time": "2024-05-24T20:29:42.280677",
     "exception": false,
     "start_time": "2024-05-24T20:29:42.253645",
     "status": "completed"
    },
    "tags": []
   },
   "outputs": [],
   "source": [
    "X = train_df.drop('Machine failure', axis=1)\n",
    "y = train_df['Machine failure']\n",
    "\n",
    "score_list, oof_list, test_list = pd.DataFrame(), pd.DataFrame(), pd.DataFrame()\n",
    "models=[]"
   ]
  },
  {
   "cell_type": "code",
   "execution_count": 17,
   "id": "cfa79fb8",
   "metadata": {
    "execution": {
     "iopub.execute_input": "2024-05-24T20:29:42.306354Z",
     "iopub.status.busy": "2024-05-24T20:29:42.306060Z",
     "iopub.status.idle": "2024-05-24T20:29:42.322392Z",
     "shell.execute_reply": "2024-05-24T20:29:42.321501Z"
    },
    "papermill": {
     "duration": 0.031334,
     "end_time": "2024-05-24T20:29:42.324492",
     "exception": false,
     "start_time": "2024-05-24T20:29:42.293158",
     "status": "completed"
    },
    "tags": []
   },
   "outputs": [],
   "source": [
    "def cross_val_score(model, X, y, test, cv):\n",
    "    val_predictions = np.zeros(len(X))\n",
    "    test_predictions = np.zeros(len(test))\n",
    "    \n",
    "    train_score_list = []\n",
    "    val_score_list = []\n",
    "    \n",
    "    skf = StratifiedKFold(n_splits=cv, shuffle=True, random_state=42)\n",
    "\n",
    "    for fold, (train_idx, val_idx) in enumerate(skf.split(X, y)):\n",
    "        X_train = X.iloc[train_idx].copy()\n",
    "        y_train = y.iloc[train_idx].copy()\n",
    "        X_val = X.iloc[val_idx].copy()\n",
    "        y_val = y.iloc[val_idx].copy()\n",
    "        \n",
    "        encoder = model.steps[0][1]\n",
    "        \n",
    "        if len(model.steps) > 1 and isinstance(encoder, (OrdinalEncoder, OneHotEncoder)):\n",
    "            categorical_cols = X_train.select_dtypes(include=['object', 'category']).columns\n",
    "            enc = model.steps[0][1]\n",
    "            \n",
    "            X_train_enc = X_train.copy()\n",
    "            X_val_enc = X_val.copy()\n",
    "            test_enc = test.copy()\n",
    "\n",
    "            X_train_enc[categorical_cols] = enc.fit_transform(X_train[categorical_cols])\n",
    "            X_val_enc[categorical_cols] = enc.transform(X_val[categorical_cols])\n",
    "            test_enc[categorical_cols] = enc.transform(test[categorical_cols])\n",
    "            \n",
    "        else:\n",
    "            X_train_enc = X_train.copy()\n",
    "            X_val_enc = X_val.copy()\n",
    "            test_enc = test.copy()\n",
    "        \n",
    "        classifier_step_name = model.steps[-1][0]  # Dynamically get the classifier step name\n",
    "        classifier = model.steps[-1][1]  # Get the classifier instance\n",
    "\n",
    "        if isinstance(classifier, (CatBoostClassifier, XGBClassifier, LGBMClassifier)):\n",
    "            # Prepare the fit parameters for classifiers that support early stopping\n",
    "            if isinstance(classifier, LGBMClassifier):\n",
    "                fit_params = {\n",
    "                f'{classifier_step_name}__eval_set': [(X_val_enc, y_val)],\n",
    "            }\n",
    "            else:\n",
    "                fit_params = {\n",
    "                    f'{classifier_step_name}__eval_set': [(X_val_enc, y_val)],\n",
    "                    f'{classifier_step_name}__early_stopping_rounds': 100,\n",
    "                    f'{classifier_step_name}__verbose': False,\n",
    "                }\n",
    "            # Fit the model with early stopping\n",
    "            model.fit(X_train_enc, y_train, **fit_params)\n",
    "        else:\n",
    "            model.fit(X_train_enc, y_train)\n",
    "        \n",
    "        train_preds = model.predict(X_train_enc)\n",
    "        val_preds = model.predict(X_val_enc)\n",
    "        \n",
    "        val_predictions[val_idx] = val_preds\n",
    "        \n",
    "        train_score = roc_auc_score(y_train, train_preds)\n",
    "        val_score = roc_auc_score(y_val, val_preds)\n",
    "        \n",
    "        train_score_list.append(train_score)\n",
    "        val_score_list.append(val_score)\n",
    "        \n",
    "        test_predictions += model.predict_proba(test_enc)[:, 1] / cv\n",
    "\n",
    "    print(f\"Train AUC: {np.mean(train_score_list):.3f} ± {np.std(train_score_list):.3f} || Val AUC: {np.mean(val_score_list):.3f} ± {np.std(val_score_list):.3f}\")\n",
    "    \n",
    "    return val_score_list, val_predictions, test_predictions"
   ]
  },
  {
   "cell_type": "markdown",
   "id": "1e320b7a",
   "metadata": {
    "papermill": {
     "duration": 0.012123,
     "end_time": "2024-05-24T20:29:42.348734",
     "exception": false,
     "start_time": "2024-05-24T20:29:42.336611",
     "status": "completed"
    },
    "tags": []
   },
   "source": [
    "### XGBOOST"
   ]
  },
  {
   "cell_type": "code",
   "execution_count": 18,
   "id": "76c2099f",
   "metadata": {
    "execution": {
     "iopub.execute_input": "2024-05-24T20:29:42.375457Z",
     "iopub.status.busy": "2024-05-24T20:29:42.374698Z",
     "iopub.status.idle": "2024-05-24T20:29:42.379282Z",
     "shell.execute_reply": "2024-05-24T20:29:42.378303Z"
    },
    "papermill": {
     "duration": 0.02027,
     "end_time": "2024-05-24T20:29:42.381402",
     "exception": false,
     "start_time": "2024-05-24T20:29:42.361132",
     "status": "completed"
    },
    "tags": []
   },
   "outputs": [],
   "source": [
    "seed=42"
   ]
  },
  {
   "cell_type": "code",
   "execution_count": 19,
   "id": "ef6623f7",
   "metadata": {
    "execution": {
     "iopub.execute_input": "2024-05-24T20:29:42.406534Z",
     "iopub.status.busy": "2024-05-24T20:29:42.406220Z",
     "iopub.status.idle": "2024-05-24T20:33:44.081472Z",
     "shell.execute_reply": "2024-05-24T20:33:44.080615Z"
    },
    "papermill": {
     "duration": 241.705744,
     "end_time": "2024-05-24T20:33:44.099016",
     "exception": false,
     "start_time": "2024-05-24T20:29:42.393272",
     "status": "completed"
    },
    "tags": []
   },
   "outputs": [
    {
     "name": "stderr",
     "output_type": "stream",
     "text": [
      "[I 2024-05-24 20:29:42,414] A new study created in memory with name: no-name-84948528-0030-4e58-9b89-96c008550d71\n",
      "[I 2024-05-24 20:29:52,737] Trial 0 finished with value: 0.8846492440106293 and parameters: {'eta': 0.035440282976428684, 'max_depth': 7, 'subsample': 0.6225657781224709, 'colsample_bytree': 0.9926942986952393, 'min_child_weight': 6, 'reg_lambda': 0.5369835218047554, 'reg_alpha': 0.15248967670848912, 'n_estimators': 903}. Best is trial 0 with value: 0.8846492440106293.\n"
     ]
    },
    {
     "name": "stdout",
     "output_type": "stream",
     "text": [
      "Train AUC: 0.897 ± 0.006 || Val AUC: 0.885 ± 0.010\n"
     ]
    },
    {
     "name": "stderr",
     "output_type": "stream",
     "text": [
      "[I 2024-05-24 20:30:02,694] Trial 1 finished with value: 0.8846492440106293 and parameters: {'eta': 0.0017907080610661177, 'max_depth': 17, 'subsample': 0.9549313730713964, 'colsample_bytree': 0.16143299561513452, 'min_child_weight': 13, 'reg_lambda': 0.7250343853898819, 'reg_alpha': 0.8256450792649679, 'n_estimators': 558}. Best is trial 0 with value: 0.8846492440106293.\n"
     ]
    },
    {
     "name": "stdout",
     "output_type": "stream",
     "text": [
      "Train AUC: 0.897 ± 0.006 || Val AUC: 0.885 ± 0.010\n"
     ]
    },
    {
     "name": "stderr",
     "output_type": "stream",
     "text": [
      "[I 2024-05-24 20:30:12,911] Trial 2 finished with value: 0.8846492440106293 and parameters: {'eta': 0.001097515370319281, 'max_depth': 2, 'subsample': 0.6032571807647147, 'colsample_bytree': 0.18657136363454396, 'min_child_weight': 9, 'reg_lambda': 0.5337234282166514, 'reg_alpha': 0.9461662278419596, 'n_estimators': 732}. Best is trial 0 with value: 0.8846492440106293.\n"
     ]
    },
    {
     "name": "stdout",
     "output_type": "stream",
     "text": [
      "Train AUC: 0.897 ± 0.006 || Val AUC: 0.885 ± 0.010\n"
     ]
    },
    {
     "name": "stderr",
     "output_type": "stream",
     "text": [
      "[I 2024-05-24 20:30:23,642] Trial 3 finished with value: 0.8846492440106293 and parameters: {'eta': 0.01381846404281577, 'max_depth': 11, 'subsample': 0.9381881460793311, 'colsample_bytree': 0.4198601470570281, 'min_child_weight': 12, 'reg_lambda': 0.8029440382367034, 'reg_alpha': 0.5117124716251755, 'n_estimators': 920}. Best is trial 0 with value: 0.8846492440106293.\n"
     ]
    },
    {
     "name": "stdout",
     "output_type": "stream",
     "text": [
      "Train AUC: 0.897 ± 0.006 || Val AUC: 0.885 ± 0.010\n"
     ]
    },
    {
     "name": "stderr",
     "output_type": "stream",
     "text": [
      "[I 2024-05-24 20:30:33,505] Trial 4 finished with value: 0.8846492440106293 and parameters: {'eta': 0.0015101824228622989, 'max_depth': 8, 'subsample': 0.8689995745133022, 'colsample_bytree': 0.9039383602723895, 'min_child_weight': 10, 'reg_lambda': 0.29952963507130115, 'reg_alpha': 0.2704988506759305, 'n_estimators': 769}. Best is trial 0 with value: 0.8846492440106293.\n"
     ]
    },
    {
     "name": "stdout",
     "output_type": "stream",
     "text": [
      "Train AUC: 0.897 ± 0.006 || Val AUC: 0.885 ± 0.010\n"
     ]
    },
    {
     "name": "stderr",
     "output_type": "stream",
     "text": [
      "[I 2024-05-24 20:30:43,403] Trial 5 finished with value: 0.8846492440106293 and parameters: {'eta': 0.013450441114712762, 'max_depth': 12, 'subsample': 0.5582025633996006, 'colsample_bytree': 0.7359695045461301, 'min_child_weight': 10, 'reg_lambda': 0.7346352202578019, 'reg_alpha': 0.26284271266726755, 'n_estimators': 727}. Best is trial 0 with value: 0.8846492440106293.\n"
     ]
    },
    {
     "name": "stdout",
     "output_type": "stream",
     "text": [
      "Train AUC: 0.897 ± 0.006 || Val AUC: 0.885 ± 0.010\n"
     ]
    },
    {
     "name": "stderr",
     "output_type": "stream",
     "text": [
      "[I 2024-05-24 20:30:54,688] Trial 6 finished with value: 0.8846492440106293 and parameters: {'eta': 0.03928976216740406, 'max_depth': 13, 'subsample': 0.7813969889277064, 'colsample_bytree': 0.4339368431195101, 'min_child_weight': 8, 'reg_lambda': 0.9211672475664233, 'reg_alpha': 0.01724445189462498, 'n_estimators': 498}. Best is trial 0 with value: 0.8846492440106293.\n"
     ]
    },
    {
     "name": "stdout",
     "output_type": "stream",
     "text": [
      "Train AUC: 0.897 ± 0.006 || Val AUC: 0.885 ± 0.010\n"
     ]
    },
    {
     "name": "stderr",
     "output_type": "stream",
     "text": [
      "[I 2024-05-24 20:31:04,605] Trial 7 finished with value: 0.8846492440106293 and parameters: {'eta': 0.011466111871364646, 'max_depth': 13, 'subsample': 0.5350740219857476, 'colsample_bytree': 0.8806473701937934, 'min_child_weight': 12, 'reg_lambda': 0.8486234670897701, 'reg_alpha': 0.005616986071947938, 'n_estimators': 504}. Best is trial 0 with value: 0.8846492440106293.\n"
     ]
    },
    {
     "name": "stdout",
     "output_type": "stream",
     "text": [
      "Train AUC: 0.897 ± 0.006 || Val AUC: 0.885 ± 0.010\n"
     ]
    },
    {
     "name": "stderr",
     "output_type": "stream",
     "text": [
      "[I 2024-05-24 20:31:14,726] Trial 8 finished with value: 0.8846492440106293 and parameters: {'eta': 0.009964616864361115, 'max_depth': 8, 'subsample': 0.9808363999094369, 'colsample_bytree': 0.801589212170385, 'min_child_weight': 5, 'reg_lambda': 0.12486746772768531, 'reg_alpha': 0.657230454232435, 'n_estimators': 989}. Best is trial 0 with value: 0.8846492440106293.\n"
     ]
    },
    {
     "name": "stdout",
     "output_type": "stream",
     "text": [
      "Train AUC: 0.897 ± 0.006 || Val AUC: 0.885 ± 0.010\n"
     ]
    },
    {
     "name": "stderr",
     "output_type": "stream",
     "text": [
      "[I 2024-05-24 20:31:25,851] Trial 9 finished with value: 0.8846492440106293 and parameters: {'eta': 0.0941482373563317, 'max_depth': 13, 'subsample': 0.7927426414749852, 'colsample_bytree': 0.8603990728744985, 'min_child_weight': 1, 'reg_lambda': 0.05086123694399092, 'reg_alpha': 0.35168901273015585, 'n_estimators': 197}. Best is trial 0 with value: 0.8846492440106293.\n"
     ]
    },
    {
     "name": "stdout",
     "output_type": "stream",
     "text": [
      "Train AUC: 0.897 ± 0.006 || Val AUC: 0.885 ± 0.010\n"
     ]
    },
    {
     "name": "stderr",
     "output_type": "stream",
     "text": [
      "[I 2024-05-24 20:31:35,871] Trial 10 finished with value: 0.8846492440106293 and parameters: {'eta': 0.04104847199597115, 'max_depth': 2, 'subsample': 0.6574376777312528, 'colsample_bytree': 0.6236527616937964, 'min_child_weight': 5, 'reg_lambda': 0.465525517550349, 'reg_alpha': 0.1761326692975205, 'n_estimators': 123}. Best is trial 0 with value: 0.8846492440106293.\n"
     ]
    },
    {
     "name": "stdout",
     "output_type": "stream",
     "text": [
      "Train AUC: 0.897 ± 0.006 || Val AUC: 0.885 ± 0.010\n"
     ]
    },
    {
     "name": "stderr",
     "output_type": "stream",
     "text": [
      "[I 2024-05-24 20:31:45,915] Trial 11 finished with value: 0.8846492440106293 and parameters: {'eta': 0.0032803603197335282, 'max_depth': 18, 'subsample': 0.6784343012369441, 'colsample_bytree': 0.12841310655317728, 'min_child_weight': 15, 'reg_lambda': 0.6295682945246548, 'reg_alpha': 0.855458465232691, 'n_estimators': 328}. Best is trial 0 with value: 0.8846492440106293.\n"
     ]
    },
    {
     "name": "stdout",
     "output_type": "stream",
     "text": [
      "Train AUC: 0.897 ± 0.006 || Val AUC: 0.885 ± 0.010\n"
     ]
    },
    {
     "name": "stderr",
     "output_type": "stream",
     "text": [
      "[I 2024-05-24 20:31:57,215] Trial 12 finished with value: 0.8846492440106293 and parameters: {'eta': 0.0031161934140149735, 'max_depth': 20, 'subsample': 0.6836905628649351, 'colsample_bytree': 0.3192992236149773, 'min_child_weight': 6, 'reg_lambda': 0.39966293701936495, 'reg_alpha': 0.7303334248485543, 'n_estimators': 357}. Best is trial 0 with value: 0.8846492440106293.\n"
     ]
    },
    {
     "name": "stdout",
     "output_type": "stream",
     "text": [
      "Train AUC: 0.897 ± 0.006 || Val AUC: 0.885 ± 0.010\n"
     ]
    },
    {
     "name": "stderr",
     "output_type": "stream",
     "text": [
      "[I 2024-05-24 20:32:07,301] Trial 13 finished with value: 0.8846492440106293 and parameters: {'eta': 0.005196885588506944, 'max_depth': 7, 'subsample': 0.8796993148227824, 'colsample_bytree': 0.6216807825840129, 'min_child_weight': 15, 'reg_lambda': 0.9979032167380453, 'reg_alpha': 0.5049963614710891, 'n_estimators': 855}. Best is trial 0 with value: 0.8846492440106293.\n"
     ]
    },
    {
     "name": "stdout",
     "output_type": "stream",
     "text": [
      "Train AUC: 0.897 ± 0.006 || Val AUC: 0.885 ± 0.010\n"
     ]
    },
    {
     "name": "stderr",
     "output_type": "stream",
     "text": [
      "[I 2024-05-24 20:32:17,490] Trial 14 finished with value: 0.8846492440106293 and parameters: {'eta': 0.03564930549370486, 'max_depth': 16, 'subsample': 0.741176314045436, 'colsample_bytree': 0.9797177081688346, 'min_child_weight': 3, 'reg_lambda': 0.6305731433181728, 'reg_alpha': 0.7198910577343238, 'n_estimators': 636}. Best is trial 0 with value: 0.8846492440106293.\n"
     ]
    },
    {
     "name": "stdout",
     "output_type": "stream",
     "text": [
      "Train AUC: 0.897 ± 0.006 || Val AUC: 0.885 ± 0.010\n"
     ]
    },
    {
     "name": "stderr",
     "output_type": "stream",
     "text": [
      "[I 2024-05-24 20:32:28,710] Trial 15 finished with value: 0.8846492440106293 and parameters: {'eta': 0.08223293656061158, 'max_depth': 5, 'subsample': 0.8555287101058184, 'colsample_bytree': 0.27412758300666284, 'min_child_weight': 12, 'reg_lambda': 0.25819677503151006, 'reg_alpha': 0.40992181609955514, 'n_estimators': 614}. Best is trial 0 with value: 0.8846492440106293.\n"
     ]
    },
    {
     "name": "stdout",
     "output_type": "stream",
     "text": [
      "Train AUC: 0.897 ± 0.006 || Val AUC: 0.885 ± 0.010\n"
     ]
    },
    {
     "name": "stderr",
     "output_type": "stream",
     "text": [
      "[I 2024-05-24 20:32:38,802] Trial 16 finished with value: 0.8846492440106293 and parameters: {'eta': 0.02646915072856747, 'max_depth': 16, 'subsample': 0.6167965341935344, 'colsample_bytree': 0.5007308413286674, 'min_child_weight': 7, 'reg_lambda': 0.6747321916545509, 'reg_alpha': 0.6121948821965855, 'n_estimators': 397}. Best is trial 0 with value: 0.8846492440106293.\n"
     ]
    },
    {
     "name": "stdout",
     "output_type": "stream",
     "text": [
      "Train AUC: 0.897 ± 0.006 || Val AUC: 0.885 ± 0.010\n"
     ]
    },
    {
     "name": "stderr",
     "output_type": "stream",
     "text": [
      "[I 2024-05-24 20:32:48,926] Trial 17 finished with value: 0.8846492440106293 and parameters: {'eta': 0.006378088897243096, 'max_depth': 5, 'subsample': 0.7240286012070382, 'colsample_bytree': 0.6945880180347445, 'min_child_weight': 4, 'reg_lambda': 0.5464898172898359, 'reg_alpha': 0.1409164905475362, 'n_estimators': 587}. Best is trial 0 with value: 0.8846492440106293.\n"
     ]
    },
    {
     "name": "stdout",
     "output_type": "stream",
     "text": [
      "Train AUC: 0.897 ± 0.006 || Val AUC: 0.885 ± 0.010\n"
     ]
    },
    {
     "name": "stderr",
     "output_type": "stream",
     "text": [
      "[I 2024-05-24 20:33:00,303] Trial 18 finished with value: 0.8846492440106293 and parameters: {'eta': 0.002188108302762883, 'max_depth': 10, 'subsample': 0.5067905611952792, 'colsample_bytree': 0.2986623617690314, 'min_child_weight': 2, 'reg_lambda': 0.3477753902930563, 'reg_alpha': 0.9772151295381301, 'n_estimators': 832}. Best is trial 0 with value: 0.8846492440106293.\n"
     ]
    },
    {
     "name": "stdout",
     "output_type": "stream",
     "text": [
      "Train AUC: 0.897 ± 0.006 || Val AUC: 0.885 ± 0.010\n"
     ]
    },
    {
     "name": "stderr",
     "output_type": "stream",
     "text": [
      "[I 2024-05-24 20:33:10,441] Trial 19 finished with value: 0.8846492440106293 and parameters: {'eta': 0.02159900461959042, 'max_depth': 16, 'subsample': 0.9385687315762087, 'colsample_bytree': 0.9981123143561919, 'min_child_weight': 14, 'reg_lambda': 0.7535946324333088, 'reg_alpha': 0.8022823373670437, 'n_estimators': 990}. Best is trial 0 with value: 0.8846492440106293.\n"
     ]
    },
    {
     "name": "stdout",
     "output_type": "stream",
     "text": [
      "Train AUC: 0.897 ± 0.006 || Val AUC: 0.885 ± 0.010\n",
      " The best trial:FrozenTrial(number=0, state=TrialState.COMPLETE, values=[0.8846492440106293], datetime_start=datetime.datetime(2024, 5, 24, 20, 29, 42, 415220), datetime_complete=datetime.datetime(2024, 5, 24, 20, 29, 52, 736594), params={'eta': 0.035440282976428684, 'max_depth': 7, 'subsample': 0.6225657781224709, 'colsample_bytree': 0.9926942986952393, 'min_child_weight': 6, 'reg_lambda': 0.5369835218047554, 'reg_alpha': 0.15248967670848912, 'n_estimators': 903}, user_attrs={}, system_attrs={}, intermediate_values={}, distributions={'eta': FloatDistribution(high=0.1, log=True, low=0.001, step=None), 'max_depth': IntDistribution(high=20, log=False, low=2, step=1), 'subsample': FloatDistribution(high=1.0, log=False, low=0.5, step=None), 'colsample_bytree': FloatDistribution(high=1.0, log=False, low=0.1, step=None), 'min_child_weight': IntDistribution(high=15, log=False, low=1, step=1), 'reg_lambda': FloatDistribution(high=1.0, log=False, low=0.0, step=None), 'reg_alpha': FloatDistribution(high=1.0, log=False, low=0.0, step=None), 'n_estimators': IntDistribution(high=1000, log=False, low=100, step=1)}, trial_id=0, value=None), the best params is:{'eta': 0.035440282976428684, 'max_depth': 7, 'subsample': 0.6225657781224709, 'colsample_bytree': 0.9926942986952393, 'min_child_weight': 6, 'reg_lambda': 0.5369835218047554, 'reg_alpha': 0.15248967670848912, 'n_estimators': 903}, the best value is:0.8846492440106293\n",
      "Train AUC: 0.883 ± 0.002 || Val AUC: 0.882 ± 0.011\n"
     ]
    }
   ],
   "source": [
    "def xgb_objective(trial):\n",
    "    params = {\n",
    "        'eta': trial.suggest_float('eta', .001, .1, log=True),\n",
    "        'max_depth' : trial.suggest_int('max_depth', 2, 20),\n",
    "        'subsample' : trial.suggest_float('subsample', .5, 1),\n",
    "        'colsample_bytree' : trial.suggest_float('colsample_bytree', .1, 1),\n",
    "        'min_child_weight' : trial.suggest_int('min_child_weight', 1, 15),\n",
    "        'reg_lambda' : trial.suggest_float('reg_lambda', 0, 1),\n",
    "        'reg_alpha' : trial.suggest_float('reg_alpha', 0, 1),\n",
    "        'n_estimators' : trial.suggest_int('n_estimators', 100, 1000),\n",
    "        'random_state' : seed,\n",
    "        'tree_method' : 'hist',\n",
    "        'device': 'cuda'\n",
    "    }\n",
    "    \n",
    "    optuna_model_xgb = make_pipeline(XGBClassifier(tree_method = 'hist', enable_categorical=True))\n",
    "    optuna_score_xgb, optuna_val_xgb, optuna_test_xgb = cross_val_score(model=optuna_model_xgb, X=X, y=y, test=test_df, cv=5)\n",
    "    \n",
    "    return np.mean(optuna_score_xgb)\n",
    "\n",
    "xgb_study = optuna.create_study(direction='maximize')\n",
    "xgb_study.optimize(xgb_objective, n_trials=20)\n",
    "\n",
    "print(f\" The best trial:{xgb_study.best_trial}, the best params is:{xgb_study.best_params}, the best value is:{xgb_study.best_value}\")\n",
    "\n",
    "XGB = XGBClassifier(tree_method = 'hist', enable_categorical=True, **xgb_study.best_params)\n",
    "XGB = make_pipeline(XGB)\n",
    "score_list['XGB'], oof_list['XGB'], test_list['CGB'] = cross_val_score(XGB, X=X, y=y, test=test_df, cv=5)"
   ]
  },
  {
   "cell_type": "markdown",
   "id": "affea63c",
   "metadata": {
    "papermill": {
     "duration": 0.015525,
     "end_time": "2024-05-24T20:33:44.129853",
     "exception": false,
     "start_time": "2024-05-24T20:33:44.114328",
     "status": "completed"
    },
    "tags": []
   },
   "source": [
    "### CATBOOST"
   ]
  },
  {
   "cell_type": "code",
   "execution_count": 20,
   "id": "515e4523",
   "metadata": {
    "execution": {
     "iopub.execute_input": "2024-05-24T20:33:44.162138Z",
     "iopub.status.busy": "2024-05-24T20:33:44.161772Z",
     "iopub.status.idle": "2024-05-24T20:42:14.824260Z",
     "shell.execute_reply": "2024-05-24T20:42:14.823239Z"
    },
    "papermill": {
     "duration": 510.698284,
     "end_time": "2024-05-24T20:42:14.843516",
     "exception": false,
     "start_time": "2024-05-24T20:33:44.145232",
     "status": "completed"
    },
    "tags": []
   },
   "outputs": [
    {
     "name": "stderr",
     "output_type": "stream",
     "text": [
      "[I 2024-05-24 20:33:44,167] A new study created in memory with name: no-name-0a5e4f2d-9133-4fbb-bf42-717f0006761e\n",
      "[I 2024-05-24 20:34:32,293] Trial 0 finished with value: 0.8817020143619269 and parameters: {'learning_rate': 0.004101368694837233, 'max_depth': 5, 'n_estimators': 475}. Best is trial 0 with value: 0.8817020143619269.\n"
     ]
    },
    {
     "name": "stdout",
     "output_type": "stream",
     "text": [
      "Train AUC: 0.882 ± 0.003 || Val AUC: 0.882 ± 0.011\n"
     ]
    },
    {
     "name": "stderr",
     "output_type": "stream",
     "text": [
      "[I 2024-05-24 20:37:00,167] Trial 1 finished with value: 0.8817020143619269 and parameters: {'learning_rate': 0.0013615346665086176, 'max_depth': 8, 'n_estimators': 922}. Best is trial 0 with value: 0.8817020143619269.\n"
     ]
    },
    {
     "name": "stdout",
     "output_type": "stream",
     "text": [
      "Train AUC: 0.882 ± 0.003 || Val AUC: 0.882 ± 0.011\n"
     ]
    },
    {
     "name": "stderr",
     "output_type": "stream",
     "text": [
      "[I 2024-05-24 20:37:11,682] Trial 2 finished with value: 0.8817020143619269 and parameters: {'learning_rate': 0.005652965573230791, 'max_depth': 9, 'n_estimators': 112}. Best is trial 0 with value: 0.8817020143619269.\n"
     ]
    },
    {
     "name": "stdout",
     "output_type": "stream",
     "text": [
      "Train AUC: 0.882 ± 0.003 || Val AUC: 0.882 ± 0.011\n"
     ]
    },
    {
     "name": "stderr",
     "output_type": "stream",
     "text": [
      "[I 2024-05-24 20:37:40,274] Trial 3 finished with value: 0.8817020143619269 and parameters: {'learning_rate': 0.00144516973008682, 'max_depth': 5, 'n_estimators': 272}. Best is trial 0 with value: 0.8817020143619269.\n"
     ]
    },
    {
     "name": "stdout",
     "output_type": "stream",
     "text": [
      "Train AUC: 0.882 ± 0.003 || Val AUC: 0.882 ± 0.011\n"
     ]
    },
    {
     "name": "stderr",
     "output_type": "stream",
     "text": [
      "[I 2024-05-24 20:37:54,754] Trial 4 finished with value: 0.8817020143619269 and parameters: {'learning_rate': 0.03221694657338411, 'max_depth': 7, 'n_estimators': 162}. Best is trial 0 with value: 0.8817020143619269.\n"
     ]
    },
    {
     "name": "stdout",
     "output_type": "stream",
     "text": [
      "Train AUC: 0.882 ± 0.003 || Val AUC: 0.882 ± 0.011\n"
     ]
    },
    {
     "name": "stderr",
     "output_type": "stream",
     "text": [
      "[I 2024-05-24 20:38:17,256] Trial 5 finished with value: 0.8823853369005658 and parameters: {'learning_rate': 0.02235370012365637, 'max_depth': 2, 'n_estimators': 371}. Best is trial 5 with value: 0.8823853369005658.\n"
     ]
    },
    {
     "name": "stdout",
     "output_type": "stream",
     "text": [
      "Train AUC: 0.883 ± 0.002 || Val AUC: 0.882 ± 0.011\n"
     ]
    },
    {
     "name": "stderr",
     "output_type": "stream",
     "text": [
      "[I 2024-05-24 20:38:29,499] Trial 6 finished with value: 0.8817020143619269 and parameters: {'learning_rate': 0.02984488670358962, 'max_depth': 9, 'n_estimators': 106}. Best is trial 5 with value: 0.8823853369005658.\n"
     ]
    },
    {
     "name": "stdout",
     "output_type": "stream",
     "text": [
      "Train AUC: 0.882 ± 0.003 || Val AUC: 0.882 ± 0.011\n"
     ]
    },
    {
     "name": "stderr",
     "output_type": "stream",
     "text": [
      "[I 2024-05-24 20:39:28,521] Trial 7 finished with value: 0.8816982907992221 and parameters: {'learning_rate': 0.008514093971427624, 'max_depth': 7, 'n_estimators': 400}. Best is trial 5 with value: 0.8823853369005658.\n"
     ]
    },
    {
     "name": "stdout",
     "output_type": "stream",
     "text": [
      "Train AUC: 0.882 ± 0.003 || Val AUC: 0.882 ± 0.011\n"
     ]
    },
    {
     "name": "stderr",
     "output_type": "stream",
     "text": [
      "[I 2024-05-24 20:40:27,739] Trial 8 finished with value: 0.8817020143619269 and parameters: {'learning_rate': 0.004663650891440681, 'max_depth': 6, 'n_estimators': 502}. Best is trial 5 with value: 0.8823853369005658.\n"
     ]
    },
    {
     "name": "stdout",
     "output_type": "stream",
     "text": [
      "Train AUC: 0.882 ± 0.003 || Val AUC: 0.882 ± 0.011\n"
     ]
    },
    {
     "name": "stderr",
     "output_type": "stream",
     "text": [
      "[I 2024-05-24 20:41:07,326] Trial 9 finished with value: 0.8817020143619269 and parameters: {'learning_rate': 0.006423624231446773, 'max_depth': 5, 'n_estimators': 387}. Best is trial 5 with value: 0.8823853369005658.\n"
     ]
    },
    {
     "name": "stdout",
     "output_type": "stream",
     "text": [
      "Train AUC: 0.882 ± 0.003 || Val AUC: 0.882 ± 0.011\n",
      "The best trails: FrozenTrial(number=5, state=TrialState.COMPLETE, values=[0.8823853369005658], datetime_start=datetime.datetime(2024, 5, 24, 20, 37, 54, 755578), datetime_complete=datetime.datetime(2024, 5, 24, 20, 38, 17, 255814), params={'learning_rate': 0.02235370012365637, 'max_depth': 2, 'n_estimators': 371}, user_attrs={}, system_attrs={}, intermediate_values={}, distributions={'learning_rate': FloatDistribution(high=0.1, log=True, low=0.001, step=None), 'max_depth': IntDistribution(high=10, log=False, low=2, step=1), 'n_estimators': IntDistribution(high=1000, log=False, low=100, step=1)}, trial_id=5, value=None), best params is: {'learning_rate': 0.02235370012365637, 'max_depth': 2, 'n_estimators': 371}, best value is: 0.8823853369005658\n",
      "Train AUC: 0.883 ± 0.002 || Val AUC: 0.882 ± 0.011\n"
     ]
    }
   ],
   "source": [
    "def cb_objective(trial):\n",
    "    params = {\n",
    "        'learning_rate' : trial.suggest_float('learning_rate', .001, .1, log=True),\n",
    "        'max_depth' : trial.suggest_int('max_depth', 2, 10),\n",
    "        'n_estimators' : trial.suggest_int('n_estimators', 100, 1000),\n",
    "        'random_state' : seed,\n",
    "        'cat_features' : ['Product ID', 'Type'],\n",
    "        'task_type': 'GPU'\n",
    "    }\n",
    "    \n",
    "    optuna_model_cb = make_pipeline(CatBoostClassifier(**params))\n",
    "    optuna_score_cb, optuna_val_cb, optuna_test_cb = cross_val_score(optuna_model_cb, X=X, y=y, test=test_df, cv=5)\n",
    "    \n",
    "    return np.mean(optuna_score_cb)\n",
    "\n",
    "cb_study = optuna.create_study(direction='maximize')\n",
    "\n",
    "cb_study.optimize(cb_objective, n_trials=10)\n",
    "\n",
    "print(f\"The best trails: {cb_study.best_trial}, best params is: {cb_study.best_params}, best value is: {cb_study.best_value}\")\n",
    "\n",
    "CBoost = CatBoostClassifier(cat_features= ['Product ID', 'Type'], **cb_study.best_params)\n",
    "CBoost = make_pipeline(CBoost)\n",
    "score_list['CBoost'], oof_list['CBoost'], test_list['CBoost'] = cross_val_score(CBoost, X=X, y=y, test=test_df, cv=5)"
   ]
  },
  {
   "cell_type": "markdown",
   "id": "62613e92",
   "metadata": {
    "papermill": {
     "duration": 0.017524,
     "end_time": "2024-05-24T20:42:14.877982",
     "exception": false,
     "start_time": "2024-05-24T20:42:14.860458",
     "status": "completed"
    },
    "tags": []
   },
   "source": [
    "### LGBM"
   ]
  },
  {
   "cell_type": "code",
   "execution_count": 21,
   "id": "75cb7b58",
   "metadata": {
    "execution": {
     "iopub.execute_input": "2024-05-24T20:42:14.914679Z",
     "iopub.status.busy": "2024-05-24T20:42:14.913944Z",
     "iopub.status.idle": "2024-05-24T20:54:25.648173Z",
     "shell.execute_reply": "2024-05-24T20:54:25.646953Z"
    },
    "papermill": {
     "duration": 730.778668,
     "end_time": "2024-05-24T20:54:25.673803",
     "exception": false,
     "start_time": "2024-05-24T20:42:14.895135",
     "status": "completed"
    },
    "tags": []
   },
   "outputs": [
    {
     "name": "stderr",
     "output_type": "stream",
     "text": [
      "[I 2024-05-24 20:42:14,920] A new study created in memory with name: no-name-9a620ced-b5f6-42f5-ade6-ca624e2cc71e\n",
      "[I 2024-05-24 20:43:02,848] Trial 0 finished with value: 0.881469456222392 and parameters: {'learning_rate': 0.0019801575847825663, 'max_depth': 18, 'n_estimators': 408, 'early_stopping': 81}. Best is trial 0 with value: 0.881469456222392.\n"
     ]
    },
    {
     "name": "stdout",
     "output_type": "stream",
     "text": [
      "Train AUC: 0.881 ± 0.003 || Val AUC: 0.881 ± 0.010\n"
     ]
    },
    {
     "name": "stderr",
     "output_type": "stream",
     "text": [
      "[I 2024-05-24 20:44:24,587] Trial 1 finished with value: 0.8866449854371782 and parameters: {'learning_rate': 0.0057748556949256255, 'max_depth': 10, 'n_estimators': 760, 'early_stopping': 54}. Best is trial 1 with value: 0.8866449854371782.\n"
     ]
    },
    {
     "name": "stdout",
     "output_type": "stream",
     "text": [
      "Train AUC: 0.929 ± 0.004 || Val AUC: 0.887 ± 0.011\n"
     ]
    },
    {
     "name": "stderr",
     "output_type": "stream",
     "text": [
      "[I 2024-05-24 20:44:34,347] Trial 2 finished with value: 0.5 and parameters: {'learning_rate': 0.0036736541741204153, 'max_depth': 5, 'n_estimators': 131, 'early_stopping': 57}. Best is trial 1 with value: 0.8866449854371782.\n"
     ]
    },
    {
     "name": "stdout",
     "output_type": "stream",
     "text": [
      "Train AUC: 0.500 ± 0.000 || Val AUC: 0.500 ± 0.000\n"
     ]
    },
    {
     "name": "stderr",
     "output_type": "stream",
     "text": [
      "[I 2024-05-24 20:45:24,366] Trial 3 finished with value: 0.8554204206203163 and parameters: {'learning_rate': 0.001485497693355658, 'max_depth': 6, 'n_estimators': 593, 'early_stopping': 25}. Best is trial 1 with value: 0.8866449854371782.\n"
     ]
    },
    {
     "name": "stdout",
     "output_type": "stream",
     "text": [
      "Train AUC: 0.865 ± 0.007 || Val AUC: 0.855 ± 0.014\n"
     ]
    },
    {
     "name": "stderr",
     "output_type": "stream",
     "text": [
      "[I 2024-05-24 20:45:33,414] Trial 4 finished with value: 0.887757815047179 and parameters: {'learning_rate': 0.06970169914073139, 'max_depth': 8, 'n_estimators': 140, 'early_stopping': 60}. Best is trial 4 with value: 0.887757815047179.\n"
     ]
    },
    {
     "name": "stdout",
     "output_type": "stream",
     "text": [
      "Train AUC: 0.928 ± 0.007 || Val AUC: 0.888 ± 0.010\n"
     ]
    },
    {
     "name": "stderr",
     "output_type": "stream",
     "text": [
      "[I 2024-05-24 20:46:07,310] Trial 5 finished with value: 0.8852602646399417 and parameters: {'learning_rate': 0.013620574546008186, 'max_depth': 5, 'n_estimators': 629, 'early_stopping': 60}. Best is trial 4 with value: 0.887757815047179.\n"
     ]
    },
    {
     "name": "stdout",
     "output_type": "stream",
     "text": [
      "Train AUC: 0.917 ± 0.004 || Val AUC: 0.885 ± 0.010\n"
     ]
    },
    {
     "name": "stderr",
     "output_type": "stream",
     "text": [
      "[I 2024-05-24 20:46:30,535] Trial 6 finished with value: 0.8868770013445036 and parameters: {'learning_rate': 0.016081270552332785, 'max_depth': 9, 'n_estimators': 216, 'early_stopping': 64}. Best is trial 4 with value: 0.887757815047179.\n"
     ]
    },
    {
     "name": "stdout",
     "output_type": "stream",
     "text": [
      "Train AUC: 0.925 ± 0.003 || Val AUC: 0.887 ± 0.011\n"
     ]
    },
    {
     "name": "stderr",
     "output_type": "stream",
     "text": [
      "[I 2024-05-24 20:47:16,475] Trial 7 finished with value: 0.8864076194091638 and parameters: {'learning_rate': 0.008831352515092825, 'max_depth': 9, 'n_estimators': 445, 'early_stopping': 97}. Best is trial 4 with value: 0.887757815047179.\n"
     ]
    },
    {
     "name": "stdout",
     "output_type": "stream",
     "text": [
      "Train AUC: 0.927 ± 0.005 || Val AUC: 0.886 ± 0.011\n"
     ]
    },
    {
     "name": "stderr",
     "output_type": "stream",
     "text": [
      "[I 2024-05-24 20:48:08,095] Trial 8 finished with value: 0.8816796731243421 and parameters: {'learning_rate': 0.0029610023253279403, 'max_depth': 13, 'n_estimators': 433, 'early_stopping': 63}. Best is trial 4 with value: 0.887757815047179.\n"
     ]
    },
    {
     "name": "stdout",
     "output_type": "stream",
     "text": [
      "Train AUC: 0.887 ± 0.003 || Val AUC: 0.882 ± 0.011\n"
     ]
    },
    {
     "name": "stderr",
     "output_type": "stream",
     "text": [
      "[I 2024-05-24 20:49:04,172] Trial 9 finished with value: 0.8882979441193338 and parameters: {'learning_rate': 0.007597261954630366, 'max_depth': 14, 'n_estimators': 730, 'early_stopping': 38}. Best is trial 9 with value: 0.8882979441193338.\n"
     ]
    },
    {
     "name": "stdout",
     "output_type": "stream",
     "text": [
      "Train AUC: 0.925 ± 0.005 || Val AUC: 0.888 ± 0.011\n"
     ]
    },
    {
     "name": "stderr",
     "output_type": "stream",
     "text": [
      "[I 2024-05-24 20:49:15,689] Trial 10 finished with value: 0.8868887139875394 and parameters: {'learning_rate': 0.037288643247299934, 'max_depth': 15, 'n_estimators': 996, 'early_stopping': 10}. Best is trial 9 with value: 0.8882979441193338.\n"
     ]
    },
    {
     "name": "stdout",
     "output_type": "stream",
     "text": [
      "Train AUC: 0.926 ± 0.009 || Val AUC: 0.887 ± 0.011\n"
     ]
    },
    {
     "name": "stderr",
     "output_type": "stream",
     "text": [
      "[I 2024-05-24 20:49:22,945] Trial 11 finished with value: 0.888184611789358 and parameters: {'learning_rate': 0.08706836668048215, 'max_depth': 20, 'n_estimators': 815, 'early_stopping': 36}. Best is trial 9 with value: 0.8882979441193338.\n"
     ]
    },
    {
     "name": "stdout",
     "output_type": "stream",
     "text": [
      "Train AUC: 0.924 ± 0.003 || Val AUC: 0.888 ± 0.009\n"
     ]
    },
    {
     "name": "stderr",
     "output_type": "stream",
     "text": [
      "[I 2024-05-24 20:49:37,712] Trial 12 finished with value: 0.8859451426443121 and parameters: {'learning_rate': 0.03162438257469674, 'max_depth': 20, 'n_estimators': 880, 'early_stopping': 35}. Best is trial 9 with value: 0.8882979441193338.\n"
     ]
    },
    {
     "name": "stdout",
     "output_type": "stream",
     "text": [
      "Train AUC: 0.924 ± 0.005 || Val AUC: 0.886 ± 0.011\n"
     ]
    },
    {
     "name": "stderr",
     "output_type": "stream",
     "text": [
      "[I 2024-05-24 20:49:46,062] Trial 13 finished with value: 0.886406534806101 and parameters: {'learning_rate': 0.06591854799638618, 'max_depth': 16, 'n_estimators': 757, 'early_stopping': 37}. Best is trial 9 with value: 0.8882979441193338.\n"
     ]
    },
    {
     "name": "stdout",
     "output_type": "stream",
     "text": [
      "Train AUC: 0.920 ± 0.006 || Val AUC: 0.886 ± 0.010\n"
     ]
    },
    {
     "name": "stderr",
     "output_type": "stream",
     "text": [
      "[I 2024-05-24 20:50:05,033] Trial 14 finished with value: 0.8873368391497133 and parameters: {'learning_rate': 0.024717879464755114, 'max_depth': 13, 'n_estimators': 750, 'early_stopping': 42}. Best is trial 9 with value: 0.8882979441193338.\n"
     ]
    },
    {
     "name": "stdout",
     "output_type": "stream",
     "text": [
      "Train AUC: 0.927 ± 0.006 || Val AUC: 0.887 ± 0.010\n"
     ]
    },
    {
     "name": "stderr",
     "output_type": "stream",
     "text": [
      "[I 2024-05-24 20:51:10,354] Trial 15 finished with value: 0.887372448080133 and parameters: {'learning_rate': 0.0065828563786061315, 'max_depth': 20, 'n_estimators': 912, 'early_stopping': 18}. Best is trial 9 with value: 0.8882979441193338.\n"
     ]
    },
    {
     "name": "stdout",
     "output_type": "stream",
     "text": [
      "Train AUC: 0.926 ± 0.004 || Val AUC: 0.887 ± 0.011\n"
     ]
    },
    {
     "name": "stderr",
     "output_type": "stream",
     "text": [
      "[I 2024-05-24 20:51:20,041] Trial 16 finished with value: 0.8861804105584536 and parameters: {'learning_rate': 0.08944902131742416, 'max_depth': 2, 'n_estimators': 670, 'early_stopping': 45}. Best is trial 9 with value: 0.8882979441193338.\n"
     ]
    },
    {
     "name": "stdout",
     "output_type": "stream",
     "text": [
      "Train AUC: 0.897 ± 0.001 || Val AUC: 0.886 ± 0.009\n"
     ]
    },
    {
     "name": "stderr",
     "output_type": "stream",
     "text": [
      "[I 2024-05-24 20:51:41,173] Trial 17 finished with value: 0.8875752181339618 and parameters: {'learning_rate': 0.01978020090980694, 'max_depth': 17, 'n_estimators': 878, 'early_stopping': 27}. Best is trial 9 with value: 0.8882979441193338.\n"
     ]
    },
    {
     "name": "stdout",
     "output_type": "stream",
     "text": [
      "Train AUC: 0.923 ± 0.004 || Val AUC: 0.888 ± 0.011\n"
     ]
    },
    {
     "name": "stderr",
     "output_type": "stream",
     "text": [
      "[I 2024-05-24 20:51:53,141] Trial 18 finished with value: 0.8870925678125665 and parameters: {'learning_rate': 0.044852235606847306, 'max_depth': 13, 'n_estimators': 512, 'early_stopping': 48}. Best is trial 9 with value: 0.8882979441193338.\n"
     ]
    },
    {
     "name": "stdout",
     "output_type": "stream",
     "text": [
      "Train AUC: 0.923 ± 0.007 || Val AUC: 0.887 ± 0.011\n"
     ]
    },
    {
     "name": "stderr",
     "output_type": "stream",
     "text": [
      "[I 2024-05-24 20:53:30,742] Trial 19 finished with value: 0.8796079069189823 and parameters: {'learning_rate': 0.0010290615562364206, 'max_depth': 18, 'n_estimators': 701, 'early_stopping': 31}. Best is trial 9 with value: 0.8882979441193338.\n"
     ]
    },
    {
     "name": "stdout",
     "output_type": "stream",
     "text": [
      "Train AUC: 0.878 ± 0.002 || Val AUC: 0.880 ± 0.012\n",
      "The best trails: FrozenTrial(number=9, state=TrialState.COMPLETE, values=[0.8882979441193338], datetime_start=datetime.datetime(2024, 5, 24, 20, 48, 8, 96042), datetime_complete=datetime.datetime(2024, 5, 24, 20, 49, 4, 171950), params={'learning_rate': 0.007597261954630366, 'max_depth': 14, 'n_estimators': 730, 'early_stopping': 38}, user_attrs={}, system_attrs={}, intermediate_values={}, distributions={'learning_rate': FloatDistribution(high=0.1, log=True, low=0.001, step=None), 'max_depth': IntDistribution(high=20, log=False, low=2, step=1), 'n_estimators': IntDistribution(high=1000, log=False, low=100, step=1), 'early_stopping': IntDistribution(high=100, log=False, low=10, step=1)}, trial_id=9, value=None), best params is: {'learning_rate': 0.007597261954630366, 'max_depth': 14, 'n_estimators': 730, 'early_stopping': 38}, best value is: 0.8882979441193338\n",
      "Train AUC: 0.925 ± 0.005 || Val AUC: 0.888 ± 0.011\n"
     ]
    }
   ],
   "source": [
    "def lgbm_objective(trial):\n",
    "    params = {\n",
    "        'learning_rate' : trial.suggest_float('learning_rate', .001, .1, log = True),\n",
    "        'max_depth' : trial.suggest_int('max_depth', 2, 20),\n",
    "        'n_estimators' : trial.suggest_int('n_estimators', 100, 1000),\n",
    "        'random_state' : seed,\n",
    "        'categorical_features': ['Product ID', 'Type'],\n",
    "        'early_stopping': trial.suggest_int('early_stopping', 10, 100),\n",
    "        'verbose': -1\n",
    "    }\n",
    "    \n",
    "    optuna_model_lgbm = make_pipeline(LGBMClassifier(**params))\n",
    "    \n",
    "    optuna_score_lgbm, optuna_val_lgbm, optuna_test_lgbm = cross_val_score(optuna_model_lgbm, X=X, y=y, test=test_df, cv=5)\n",
    "    \n",
    "    return np.mean(optuna_score_lgbm)\n",
    "\n",
    "lgbm_study = optuna.create_study(direction=\"maximize\")\n",
    "\n",
    "lgbm_study.optimize(lgbm_objective, n_trials=20)\n",
    "\n",
    "print(f\"The best trails: {lgbm_study.best_trial}, best params is: {lgbm_study.best_params}, best value is: {lgbm_study.best_value}\")\n",
    "\n",
    "LGBM = LGBMClassifier(verbosity=-1, **lgbm_study.best_params)\n",
    "LGBM = make_pipeline(LGBM)\n",
    "score_list['LGBM'], oof_list['LGBM'], test_list['LGBM'] = cross_val_score(LGBM, X=X, y=y, test=test_df, cv=5)"
   ]
  },
  {
   "cell_type": "markdown",
   "id": "306f6b66",
   "metadata": {
    "papermill": {
     "duration": 0.021618,
     "end_time": "2024-05-24T20:54:25.717282",
     "exception": false,
     "start_time": "2024-05-24T20:54:25.695664",
     "status": "completed"
    },
    "tags": []
   },
   "source": [
    "### META MODEL"
   ]
  },
  {
   "cell_type": "code",
   "execution_count": 22,
   "id": "4998e53d",
   "metadata": {
    "execution": {
     "iopub.execute_input": "2024-05-24T20:54:25.762678Z",
     "iopub.status.busy": "2024-05-24T20:54:25.762271Z",
     "iopub.status.idle": "2024-05-24T20:54:26.095943Z",
     "shell.execute_reply": "2024-05-24T20:54:26.094309Z"
    },
    "papermill": {
     "duration": 0.361091,
     "end_time": "2024-05-24T20:54:26.100181",
     "exception": false,
     "start_time": "2024-05-24T20:54:25.739090",
     "status": "completed"
    },
    "tags": []
   },
   "outputs": [],
   "source": [
    "meta_model = LogisticRegression().fit(X=oof_list, y=train_df['Machine failure'])\n",
    "weights = meta_model.coef_[0]\n",
    "\n",
    "weights = meta_model.coef_[0]\n",
    "\n",
    "weights = weights/np.sum(weights)"
   ]
  },
  {
   "cell_type": "code",
   "execution_count": 23,
   "id": "07d96bdf",
   "metadata": {
    "execution": {
     "iopub.execute_input": "2024-05-24T20:54:26.191565Z",
     "iopub.status.busy": "2024-05-24T20:54:26.190911Z",
     "iopub.status.idle": "2024-05-24T20:54:26.204284Z",
     "shell.execute_reply": "2024-05-24T20:54:26.202863Z"
    },
    "papermill": {
     "duration": 0.062633,
     "end_time": "2024-05-24T20:54:26.208109",
     "exception": false,
     "start_time": "2024-05-24T20:54:26.145476",
     "status": "completed"
    },
    "tags": []
   },
   "outputs": [],
   "source": [
    "# Make the final prediction by applying the weights\n",
    "final_predictions = np.dot(test_list, weights)\n",
    "\n",
    "binary_predictions = (final_predictions >= 0.5).astype(int)"
   ]
  },
  {
   "cell_type": "code",
   "execution_count": 24,
   "id": "333cfbb1",
   "metadata": {
    "execution": {
     "iopub.execute_input": "2024-05-24T20:54:26.303326Z",
     "iopub.status.busy": "2024-05-24T20:54:26.302702Z",
     "iopub.status.idle": "2024-05-24T20:54:26.312065Z",
     "shell.execute_reply": "2024-05-24T20:54:26.310798Z"
    },
    "papermill": {
     "duration": 0.064968,
     "end_time": "2024-05-24T20:54:26.319214",
     "exception": false,
     "start_time": "2024-05-24T20:54:26.254246",
     "status": "completed"
    },
    "tags": []
   },
   "outputs": [
    {
     "data": {
      "text/plain": [
       "(90954,)"
      ]
     },
     "execution_count": 24,
     "metadata": {},
     "output_type": "execute_result"
    }
   ],
   "source": [
    "binary_predictions.shape"
   ]
  },
  {
   "cell_type": "code",
   "execution_count": 25,
   "id": "b5ef5747",
   "metadata": {
    "execution": {
     "iopub.execute_input": "2024-05-24T20:54:26.371145Z",
     "iopub.status.busy": "2024-05-24T20:54:26.370291Z",
     "iopub.status.idle": "2024-05-24T20:54:26.375165Z",
     "shell.execute_reply": "2024-05-24T20:54:26.374373Z"
    },
    "papermill": {
     "duration": 0.029339,
     "end_time": "2024-05-24T20:54:26.377394",
     "exception": false,
     "start_time": "2024-05-24T20:54:26.348055",
     "status": "completed"
    },
    "tags": []
   },
   "outputs": [],
   "source": [
    "ss['Machine failure'] = binary_predictions"
   ]
  },
  {
   "cell_type": "code",
   "execution_count": 26,
   "id": "5fb962ee",
   "metadata": {
    "execution": {
     "iopub.execute_input": "2024-05-24T20:54:26.421087Z",
     "iopub.status.busy": "2024-05-24T20:54:26.420285Z",
     "iopub.status.idle": "2024-05-24T20:54:26.429503Z",
     "shell.execute_reply": "2024-05-24T20:54:26.428569Z"
    },
    "papermill": {
     "duration": 0.033856,
     "end_time": "2024-05-24T20:54:26.432241",
     "exception": false,
     "start_time": "2024-05-24T20:54:26.398385",
     "status": "completed"
    },
    "tags": []
   },
   "outputs": [
    {
     "data": {
      "text/html": [
       "<div>\n",
       "<style scoped>\n",
       "    .dataframe tbody tr th:only-of-type {\n",
       "        vertical-align: middle;\n",
       "    }\n",
       "\n",
       "    .dataframe tbody tr th {\n",
       "        vertical-align: top;\n",
       "    }\n",
       "\n",
       "    .dataframe thead th {\n",
       "        text-align: right;\n",
       "    }\n",
       "</style>\n",
       "<table border=\"1\" class=\"dataframe\">\n",
       "  <thead>\n",
       "    <tr style=\"text-align: right;\">\n",
       "      <th></th>\n",
       "      <th>id</th>\n",
       "      <th>Machine failure</th>\n",
       "    </tr>\n",
       "  </thead>\n",
       "  <tbody>\n",
       "    <tr>\n",
       "      <th>0</th>\n",
       "      <td>136429</td>\n",
       "      <td>0</td>\n",
       "    </tr>\n",
       "    <tr>\n",
       "      <th>1</th>\n",
       "      <td>136430</td>\n",
       "      <td>0</td>\n",
       "    </tr>\n",
       "    <tr>\n",
       "      <th>2</th>\n",
       "      <td>136431</td>\n",
       "      <td>0</td>\n",
       "    </tr>\n",
       "    <tr>\n",
       "      <th>3</th>\n",
       "      <td>136432</td>\n",
       "      <td>0</td>\n",
       "    </tr>\n",
       "    <tr>\n",
       "      <th>4</th>\n",
       "      <td>136433</td>\n",
       "      <td>0</td>\n",
       "    </tr>\n",
       "  </tbody>\n",
       "</table>\n",
       "</div>"
      ],
      "text/plain": [
       "       id  Machine failure\n",
       "0  136429                0\n",
       "1  136430                0\n",
       "2  136431                0\n",
       "3  136432                0\n",
       "4  136433                0"
      ]
     },
     "execution_count": 26,
     "metadata": {},
     "output_type": "execute_result"
    }
   ],
   "source": [
    "ss.head()"
   ]
  },
  {
   "cell_type": "code",
   "execution_count": 27,
   "id": "807f8f27",
   "metadata": {
    "execution": {
     "iopub.execute_input": "2024-05-24T20:54:26.480044Z",
     "iopub.status.busy": "2024-05-24T20:54:26.479655Z",
     "iopub.status.idle": "2024-05-24T20:54:26.604313Z",
     "shell.execute_reply": "2024-05-24T20:54:26.603335Z"
    },
    "papermill": {
     "duration": 0.150942,
     "end_time": "2024-05-24T20:54:26.606957",
     "exception": false,
     "start_time": "2024-05-24T20:54:26.456015",
     "status": "completed"
    },
    "tags": []
   },
   "outputs": [],
   "source": [
    "ss.to_csv('submission.csv', index = False)"
   ]
  },
  {
   "cell_type": "code",
   "execution_count": null,
   "id": "d391702e",
   "metadata": {
    "papermill": {
     "duration": 0.021846,
     "end_time": "2024-05-24T20:54:26.651190",
     "exception": false,
     "start_time": "2024-05-24T20:54:26.629344",
     "status": "completed"
    },
    "tags": []
   },
   "outputs": [],
   "source": []
  }
 ],
 "metadata": {
  "kaggle": {
   "accelerator": "nvidiaTeslaT4",
   "dataSources": [
    {
     "databundleVersionId": 5988351,
     "sourceId": 53376,
     "sourceType": "competition"
    }
   ],
   "dockerImageVersionId": 30698,
   "isGpuEnabled": true,
   "isInternetEnabled": true,
   "language": "python",
   "sourceType": "notebook"
  },
  "kernelspec": {
   "display_name": "Python 3",
   "language": "python",
   "name": "python3"
  },
  "language_info": {
   "codemirror_mode": {
    "name": "ipython",
    "version": 3
   },
   "file_extension": ".py",
   "mimetype": "text/x-python",
   "name": "python",
   "nbconvert_exporter": "python",
   "pygments_lexer": "ipython3",
   "version": "3.10.13"
  },
  "papermill": {
   "default_parameters": {},
   "duration": 1499.914233,
   "end_time": "2024-05-24T20:54:27.699138",
   "environment_variables": {},
   "exception": null,
   "input_path": "__notebook__.ipynb",
   "output_path": "__notebook__.ipynb",
   "parameters": {},
   "start_time": "2024-05-24T20:29:27.784905",
   "version": "2.5.0"
  }
 },
 "nbformat": 4,
 "nbformat_minor": 5
}
